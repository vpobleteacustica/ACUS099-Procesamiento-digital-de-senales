{
 "cells": [
  {
   "cell_type": "code",
   "execution_count": 1,
   "metadata": {
    "ExecuteTime": {
     "end_time": "2020-07-31T15:15:21.187069Z",
     "start_time": "2020-07-31T15:15:21.159115Z"
    }
   },
   "outputs": [
    {
     "data": {
      "text/html": [
       "<!-- Mejorar visualización en proyector -->\n",
       "<style>\n",
       ".rendered_html {font-size: 1.2em; line-height: 150%;}\n",
       "div.prompt {min-width: 0ex; padding: 0px;}\n",
       ".container {width:95% !important;}\n",
       "</style>\n"
      ],
      "text/plain": [
       "<IPython.core.display.HTML object>"
      ]
     },
     "metadata": {},
     "output_type": "display_data"
    }
   ],
   "source": [
    "%%HTML\n",
    "<!-- Mejorar visualización en proyector -->\n",
    "<style>\n",
    ".rendered_html {font-size: 1.2em; line-height: 150%;}\n",
    "div.prompt {min-width: 0ex; padding: 0px;}\n",
    ".container {width:95% !important;}\n",
    "</style>"
   ]
  },
  {
   "cell_type": "markdown",
   "metadata": {},
   "source": [
    "***\n",
    "# Trabajo grupal Final\n",
    "## ACUS099- Procesamiento digital de señales\n",
    "### Fecha de entrega: 14 de Agosto de 2020 hasta las 16:00\n",
    "\n",
    "Profesor: Dr. Victor Poblete R.\n",
    "\n",
    "        vpoblete@uach.cl\n",
    "        \n",
    "Ayudante: Diego Espejo A.\n",
    "\n",
    "        diego.espejo@alumnos.uach.cl\n",
    "***"
   ]
  },
  {
   "cell_type": "markdown",
   "metadata": {},
   "source": [
    "# Pauta\n",
    "Se espera que el grupo ( `max 2 personas` ) sea capaz de:\n",
    "- Explicar de principio a fin las celdas de codigo con sus respectivas etapas de proceso y variables declaradas.\n",
    "- Aplicar las buenas practicas señaladas en [Best Practices for Scientific Computing.](https://www.ncbi.nlm.nih.gov/pmc/articles/PMC3886731/) \n",
    "- Realizar gráficos claramente detallados con sus respectivos ejes, unidades y leyendas.\n",
    "- Analizar 3 audios con contenido distinto escogidos por el grupo. Por ejemplo:\n",
    "    - Humedales\n",
    "    - Voz Hablada o cantada\n",
    "    - Acordes musicales (guitarra, piano, entre otros.) \n",
    "- Seleccionar y explicar *frames* que sean interesantes de analizar, donde se ilustren periodicidades, variaciones rapidas o lentes de la forma de onda temporal, y presencia de *peaks* en el espectro de magnitud cuadratica.\n",
    "- Este trabajo debe ser entregado en formato notebook *.pynb* adjuntando sus respectivos audios e imagenes.\n",
    "- Todas aquellas explicaciones de los diferentes procesos debe ser escrita en *Markdown*, con ecuaciones en formato *LaTex*.\n",
    "- Adicionalmente, material como videos o referencias pueden ser incluidos también.\n",
    "***\n",
    "***\n",
    "\n",
    "        Todos los archivos deben ser claramente identificados, sin caracteres          especiales como acentos y ñ.\n",
    "        Los archivos deben ser enviados a Profesor y Ayudante. \n",
    "        Los trabajos seran recibidos hasta las 16:00, todo trabajo que llegue despues  de la hora tendrá penalización.\n",
    "***        \n",
    "\n",
    "        La evaluacion del trabajo será en función de cumplir las instrucciones dadas,  la fecha de entrega y la prolijidad de éste. \n",
    "        El envío de notas ira con observaciones de la revisión.\n",
    "***\n",
    "***"
   ]
  },
  {
   "cell_type": "markdown",
   "metadata": {},
   "source": [
    "### Cortando en Frames: Ventaneo\n"
   ]
  },
  {
   "cell_type": "markdown",
   "metadata": {},
   "source": [
    "La transformada discreta de Fourier en tiempo corto (STDFT), se realiza por trozos del audio a analizar, estos trozos normalmentes son traslapados unos con otros para reducir irregularidades en la frontera."
   ]
  },
  {
   "cell_type": "markdown",
   "metadata": {},
   "source": [
    "##### Ingreso de señal"
   ]
  },
  {
   "cell_type": "markdown",
   "metadata": {},
   "source": [
    "##### Fijar valores para ventaneo"
   ]
  },
  {
   "cell_type": "markdown",
   "metadata": {},
   "source": [
    "##### Zero padding"
   ]
  },
  {
   "cell_type": "markdown",
   "metadata": {},
   "source": [
    "##### Ventaneo"
   ]
  },
  {
   "cell_type": "markdown",
   "metadata": {},
   "source": [
    "#####  Hamming"
   ]
  },
  {
   "cell_type": "markdown",
   "metadata": {},
   "source": [
    "#####  FFT"
   ]
  }
 ],
 "metadata": {
  "kernelspec": {
   "display_name": "Python 3",
   "language": "python",
   "name": "python3"
  },
  "language_info": {
   "codemirror_mode": {
    "name": "ipython",
    "version": 3
   },
   "file_extension": ".py",
   "mimetype": "text/x-python",
   "name": "python",
   "nbconvert_exporter": "python",
   "pygments_lexer": "ipython3",
   "version": "3.6.10"
  },
  "latex_envs": {
   "LaTeX_envs_menu_present": true,
   "autoclose": true,
   "autocomplete": true,
   "bibliofile": "biblio.bib",
   "cite_by": "apalike",
   "current_citInitial": 1,
   "eqLabelWithNumbers": true,
   "eqNumInitial": 1,
   "hotkeys": {
    "equation": "Ctrl-E",
    "itemize": "Ctrl-I"
   },
   "labels_anchors": false,
   "latex_user_defs": false,
   "report_style_numbering": true,
   "user_envs_cfg": true
  },
  "toc": {
   "base_numbering": 1,
   "nav_menu": {},
   "number_sections": true,
   "sideBar": true,
   "skip_h1_title": false,
   "title_cell": "Table of Contents",
   "title_sidebar": "Contents",
   "toc_cell": false,
   "toc_position": {},
   "toc_section_display": true,
   "toc_window_display": false
  }
 },
 "nbformat": 4,
 "nbformat_minor": 4
}
