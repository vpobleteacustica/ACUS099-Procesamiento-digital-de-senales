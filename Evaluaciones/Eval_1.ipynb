{
 "cells": [
  {
   "cell_type": "code",
   "execution_count": 1,
   "metadata": {},
   "outputs": [
    {
     "data": {
      "text/html": [
       "<!-- Mejorar visualización en proyector -->\n",
       "<style>\n",
       ".rendered_html {font-size: 1.2em; line-height: 150%;}\n",
       "div.prompt {min-width: 0ex; }\n",
       ".container {width:95% !important;}\n",
       "</style>\n"
      ],
      "text/plain": [
       "<IPython.core.display.HTML object>"
      ]
     },
     "metadata": {},
     "output_type": "display_data"
    }
   ],
   "source": [
    "%%HTML\n",
    "<!-- Mejorar visualización en proyector -->\n",
    "<style>\n",
    ".rendered_html {font-size: 1.2em; line-height: 150%;}\n",
    "div.prompt {min-width: 0ex; }\n",
    ".container {width:95% !important;}\n",
    "</style>"
   ]
  },
  {
   "cell_type": "markdown",
   "metadata": {},
   "source": [
    "<h1 style=\"text-align:center\">Semana 3. Primera Evaluación, lunes 4 de mayo de 2020</h1>\n",
    "<h3 style=\"text-align:center\">ACUS099: Procesamiento digital de señales</h3>\n",
    "<p style=\"text-align:center\">Dr. Víctor Poblete <br>\n",
    "<a href=\"mailto:vpoblete@uach.cl\">vpoblete@uach.cl</a><br>\n",
    "<a href=\"https://github.com/vpobleteacustica/ACUS099-Procesamiento-digital-de-senales\">https://github.com/vpobleteacustica/ACUS099-Procesamiento-digital-de-senales</a><br> \n",
    "<p style=\"text-align:center\">Diego Espejo Alquinta - Ayudante <br>\n",
    "<a href=\"mailto:diego.espejo@alumnos.uach.cl\">diego.espejo@alumnos.uach.cl </a><br>\n",
    "<a href=\"http://www.acusticauach.cl\">www.acusticauach.cl</a><br> "
   ]
  },
  {
   "cell_type": "markdown",
   "metadata": {},
   "source": [
    "1. Crear un documento nuevo en Jupyter notebook en el cual desarrollar lo siguiente:\n",
    "> + Graficar una señal senoidal de tiempo discreto expresada como:\n",
    "$$\n",
    "\\begin{align}\n",
    "x_{1}[n] &= A\\cdot sin(\\omega n + \\phi)\n",
    "\\end{align}\n",
    "$$\n",
    "donde $n$ es una variable entera llamada número de muestra, $A$ es la amplitud de la señal senoidal, $\\omega$ es la frecuencia en radianes per muestra y $\\phi$ es la fase en radianes. Considerar $A=2$, $\\omega = \\pi/3$ radianes per muestra y fase $\\phi = \\pi/6$. \n",
    "    * *Ayuda.* np.sin(x)\n",
    "\n",
    "> + Graficar la secuencia exponencial $x_{2}[n]= B\\cdot {\\alpha ^{n}}$, para cada uno de los siguientes casos (usar $B=10$):\n",
    "    + $0<\\alpha<1$\n",
    "    + $-1<\\alpha<0$\n",
    "    + $|\\alpha|>1$\n",
    "        * *Ayuda.* $a^{n}$ --> a**n"
   ]
  }
 ],
 "metadata": {
  "kernelspec": {
   "display_name": "Python 3",
   "language": "python",
   "name": "python3"
  },
  "language_info": {
   "codemirror_mode": {
    "name": "ipython",
    "version": 3
   },
   "file_extension": ".py",
   "mimetype": "text/x-python",
   "name": "python",
   "nbconvert_exporter": "python",
   "pygments_lexer": "ipython3",
   "version": "3.6.9"
  }
 },
 "nbformat": 4,
 "nbformat_minor": 4
}
