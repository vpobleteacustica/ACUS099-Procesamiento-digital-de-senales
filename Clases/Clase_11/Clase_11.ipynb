{
 "cells": [
  {
   "cell_type": "code",
   "execution_count": 1,
   "metadata": {},
   "outputs": [
    {
     "data": {
      "text/html": [
       "<!-- Mejorar visualización en proyector -->\n",
       "<style>\n",
       ".rendered_html {font-size: 1.2em; line-height: 150%;}\n",
       "div.prompt {min-width: 0ex; }\n",
       ".container {width:95% !important;}\n",
       "</style>\n"
      ],
      "text/plain": [
       "<IPython.core.display.HTML object>"
      ]
     },
     "metadata": {},
     "output_type": "display_data"
    }
   ],
   "source": [
    "%%HTML\n",
    "<!-- Mejorar visualización en proyector -->\n",
    "<style>\n",
    ".rendered_html {font-size: 1.2em; line-height: 150%;}\n",
    "div.prompt {min-width: 0ex; }\n",
    ".container {width:95% !important;}\n",
    "</style>"
   ]
  },
  {
   "cell_type": "markdown",
   "metadata": {},
   "source": [
    "<h1 style=\"text-align:center\">Semana 7. Clase 11: Ecuaciones en diferencias. Tareas de Filtrado</h1>\n",
    "<h3 style=\"text-align:center\">ACUS099: Procesamiento digital de señales</h3>\n",
    "<p style=\"text-align:center\">Dr. Víctor Poblete <br>\n",
    "<a href=\"mailto:vpoblete@uach.cl\">vpoblete@uach.cl</a><br>\n",
    "<a href=\"https://github.com/vpobleteacustica/ACUS099-Procesamiento-digital-de-senales\">https://github.com/vpobleteacustica/ACUS099-Procesamiento-digital-de-senales</a><br> \n",
    "<p style=\"text-align:center\">Diego Espejo Alquinta - Ayudante <br>\n",
    "<a href=\"mailto:diego.espejo@alumnos.uach.cl\">diego.espejo@alumnos.uach.cl </a><br>\n",
    "<a href=\"http://www.acusticauach.cl\">www.acusticauach.cl</a><br> "
   ]
  },
  {
   "cell_type": "markdown",
   "metadata": {},
   "source": [
    "### Relaciones entre la respuesta $y[n]$ y la entrada $x[n]$ de un sistema lineal e invariante en el tiempo:"
   ]
  },
  {
   "cell_type": "markdown",
   "metadata": {},
   "source": [
    "<!--- Inline HTML works too --->\n",
    "<p style=\"text-align:center\">\n",
    "    <a title=\"sistema\"><img src=\"SistemaLTI.png\" width=\"330\" height=\"330\" alt=\"Tiny\"></a>\n",
    "    <strong>Figure 1. Conceptos de sistema LTI y relación entre respuesta y entrada.</strong>\n",
    "    \n",
    "> + $h[n]$ caracteriza por completo el sistema LTI.\n",
    "> + Una manera de relacionar la respuesta $y[n]$ del sistema LTI con la entrada $x[n]$ es a través de la suma de convolución:\n",
    "$$ \n",
    "\\begin{align*}\n",
    "y[n] &= x[n]*h[n]\\\\\n",
    "&= \\sum_{k=-\\infty}^{\\infty} x[k]h[n-k]\n",
    "\\end{align*}\n",
    "$$"
   ]
  },
  {
   "cell_type": "markdown",
   "metadata": {},
   "source": [
    "### Causalidad.\n",
    "> + Un sistema LTI es causal $\\Leftrightarrow$ $h[n]=0,\\,\\, \\forall n<0.$\n",
    "> + Una secuencia (señal en tiempo discreto), es causal $\\Leftrightarrow$ $x[n]=0,\\,\\, \\forall n<0.$\n",
    "> + Típicamente, trabajamos con señales y sistemas causales.\n",
    "\n",
    "### Estabilidad BIBO.\n",
    "> + Bounded Input - Bounded Output.\n",
    "> + La salida $y[n]$ de un sistema LTI es acotada en amplitud $\\forall$ entrada $x[n]$ acotada en amplitud. Es decir, $|x[n]|\\leq A$ para un valor finito $A,$ entonces la salida $y[n]$ es siempre acotada en amplitud:  $|x[n]|\\leq A_{1}$ para un valor finito $A_{1}$.\n",
    "\n",
    "### Análisis de estabilidad.\n",
    "> + Dada la respuesta impulso $h[n]$, podemos evaluar la estabilidad BIBO del sistema LTI, calculando la suma:\n",
    "$$ \n",
    "\\begin{align*}\n",
    "S &= \\sum_{n=-\\infty}^{\\infty} |h[n]|\n",
    "\\end{align*}\n",
    "$$\n",
    "\n",
    "> + Si $S<\\infty,$ el sistema es estable, mientras que si $S=\\infty$ el sistema es inestable.\n",
    "\n",
    "> + Ejemplo: Sea $h[n] = a^{n}u[n],$ con $|a|<1,$ la respuesta impulso de un sistema LTI. Analizar la estabilidad del sistema.\n",
    ">> + En este caso: \n",
    "$$ \n",
    "\\begin{align*}\n",
    "S &= \\sum_{n=0}^{\\infty} |a|^{n}\n",
    "\\end{align*}\n",
    "$$\n",
    ">> + Considerando que $|a|< 1$ y usando de serie geométrica infinita:\n",
    "$$ \n",
    "\\begin{align*}\n",
    "S &= \\sum_{n=0}^{\\infty} |a|^{n}\\\\\n",
    "&=\\ldots\n",
    "\\end{align*}\n",
    "$$\n",
    ">> + Por lo tanto, el sistema es estable si $|a|< 1$. Sin embargo, cuando $|a|\\geq 1$, entonces $S=\\infty$ y el sistema es inestable.\n",
    "\n",
    "### Ecuaciones en diferencias.\n",
    "> + Estas ecuaciones representan un nuevo concepto que veremos en procesamiento digital de señales.\n",
    "> + Las ecuaciones en diferencias, al igual que la suma de convolución, nos sirven para establecer de qué forma se relacionan la salida $y[n]$ del sistema LTI con la entrada $x[n]$ al sistema.\n",
    "> + La forma general de una ecuación en diferencias, lineal, de coeficientes constantes, de orden N es:\n",
    "$$ \n",
    "\\begin{align*}\n",
    "\\sum_{k=0}^{N} a_{k}y[n-k] &= \\sum_{m=0}^{M} b_{m}x[n-m]\n",
    "\\end{align*}\n",
    "$$\n",
    "> + El orden la ecuación está dada por el valor de $N$. También al orden se le conoce con el nombre de memoria del sistema. \n",
    "\n",
    "\n",
    "> + Ejemplo: $y[n]+7y[n-1]+2y[n-2]=x[n]-4x[n-1]$. En este caso, vemos que en el término $y[n]+7y[n-1]+2y[n-2]$, el índice $k$ toma los valores $k=0$ hasta $k=2$, además, $N=2$, $a_{0}=1$, $a_{1}=7$, y $a_{2}=2$. Así,\n",
    "$$ \n",
    "\\begin{align*}\n",
    "\\sum_{k=0}^{N=2} a_{k}y[n-k]\n",
    "\\end{align*}\n",
    "$$\n",
    "> + Asimismo, vemos que en el término $x[n]-4x[n-1]$, el índice $m$ toma los valores $k=0$ hasta $k=1$, además, $M=1$, $b_{0}=1$ y $b_{1}=-4$. Así,\n",
    "$$ \n",
    "\\begin{align*}\n",
    "\\sum_{m=0}^{M=1} b_{m}x[n-m]\n",
    "\\end{align*}\n",
    "$$\n",
    "\n",
    "> + Por lo tanto, la ecuación en diferencias que relaciona la salida con la entrada al sistema es:\n",
    "$$ \n",
    "\\begin{align*}\n",
    "\\sum_{k=0}^{N=2} a_{k}y[n-k]&=\\sum_{m=0}^{M=1} b_{m}x[n-m]\n",
    "\\end{align*}\n",
    "$$"
   ]
  },
  {
   "cell_type": "markdown",
   "metadata": {},
   "source": [
    "### Forma recursiva de ecuaciones en diferencias:\n",
    "\n",
    "> + Comencemos de la forma general:\n",
    "$$ \n",
    "\\begin{align*}\n",
    "\\sum_{k=0}^{N} a_{k}y[n-k] &= \\sum_{m=0}^{M} b_{m}x[n-m]\n",
    "\\end{align*}\n",
    "$$\n",
    "\n",
    "> + Consideremos que $a_{0}=1$ y re-escribamos como:\n",
    "$$ \n",
    "\\begin{align*}\n",
    "y[n]+\\sum_{k=1}^{N} a_{k}y[n-k] &= \\sum_{m=0}^{M} b_{m}x[n-m]\n",
    "\\end{align*}\n",
    "$$\n",
    "> + O bien, arreglando:\n",
    "$$ \n",
    "\\begin{align*}\n",
    "y[n] &= \\sum_{m=0}^{M} b_{m}x[n-m] -\\sum_{k=1}^{N} a_{k}y[n-k]\n",
    "\\end{align*}\n",
    "$$\n",
    "\n",
    "> + Esta última ecuación se conoce como representación en forma recursiva del sistema LTI, pues se almacena una cierta cantidad de salidas pasadas del sistema."
   ]
  },
  {
   "cell_type": "markdown",
   "metadata": {},
   "source": [
    "### Tareas de filtrado.\n",
    "\n",
    "> + En procesamiento de señales, una clase importante de sistemas LTI son los filtros.\n",
    "> + Los filtros sirven para realizar tareas muy interesantes tales como eliminar interferencias (ruido), rechazar ciertas frecuencias y dejar pasar otras, mejorar el espectro, etc.\n",
    "> + A este tipo de tareas se le da el nombre de filtrado.\n",
    "> + Los filtros los podemos clasificar como filtros análogos y filtros digitales dependiendo del tipo de señal que procesen.\n",
    "> + Un filtro análogo procesa señales de tiempo continuo. Mientras que un filtro digital procesa señales de tiempo discreto.\n",
    "> + El análisis de filtros y tareas de filtrado involucra usar métodos en los dominios de tiempo y frecuencia ya que muchas veces se especifica el comportamiento de un filtro en frecuencia y la implementación se hace en el dominio del tiempo, en la forma de ecuaciones en diferencias.\n",
    "> + Las transformadas de tiempo discreto como la transformada de Fourier y la transformada z, son métodos muy usados para analizar filtros en el dominio de la frecuencia.\n"
   ]
  },
  {
   "cell_type": "markdown",
   "metadata": {},
   "source": [
    "### Filtros de respuesta impulso finita (FIR) y filtros de respuesta impulso infinita (IIR)\n",
    "\n",
    "> + Consideremos para un filtro digital la ecuación en diferencias recursiva:\n",
    "$$ \n",
    "\\begin{align*}\n",
    "y[n] &= \\sum_{m=0}^{M} b_{m}x[n-m] -\\sum_{k=1}^{N} a_{k}y[n-k]\n",
    "\\end{align*}\n",
    "$$\n",
    "> + Para tareas de filtrado el análisis de $h[n]$ es fundamental. \n",
    "> + Los coeficientes $a_{k}$ y $b_{m}$ se llaman coeficientes del filtro. \n",
    "> + $N$ se le llama número de polos del sistema.\n",
    "> + $M$ se le conoce como  ceros del sistema.\n",
    "> + Cuando $a_{k}\\neq 0$, el filtro tiene arquitectura caracterizada por la recursividad (presencia de muestras pasadas). debido a estas muestras, la respuesta impusloi puede no llegar a ser cero en un cierto tiempo y continuar indefinidamente por lo que este tipo de filtros se conocen como filtros de respuesta impulso infinita (IIR).\n",
    "> + Cuando $a_{k}= 0$ la ecuación en diferencias del filtro ya no es recursiva por lo que la respuesta impulso puede decaer a cero pasado un cierto tiempo. El nombre de este tipo de filtros es filtro de respuesta impulso finita (FIR)."
   ]
  },
  {
   "cell_type": "code",
   "execution_count": null,
   "metadata": {},
   "outputs": [],
   "source": []
  }
 ],
 "metadata": {
  "kernelspec": {
   "display_name": "acus099-env",
   "language": "python",
   "name": "acus099-env"
  },
  "language_info": {
   "codemirror_mode": {
    "name": "ipython",
    "version": 3
   },
   "file_extension": ".py",
   "mimetype": "text/x-python",
   "name": "python",
   "nbconvert_exporter": "python",
   "pygments_lexer": "ipython3",
   "version": "3.8.3"
  }
 },
 "nbformat": 4,
 "nbformat_minor": 4
}
