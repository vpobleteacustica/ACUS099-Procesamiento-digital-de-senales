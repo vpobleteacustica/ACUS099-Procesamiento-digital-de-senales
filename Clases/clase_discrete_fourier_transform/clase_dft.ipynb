{
 "cells": [
  {
   "cell_type": "code",
   "execution_count": 1,
   "metadata": {},
   "outputs": [
    {
     "data": {
      "text/html": [
       "<!-- Mejorar visualización en proyector -->\n",
       "<style>\n",
       ".rendered_html {font-size: 1.2em; line-height: 150%;}\n",
       "div.prompt {min-width: 0ex; }\n",
       ".container {width:95% !important;}\n",
       "</style>\n"
      ],
      "text/plain": [
       "<IPython.core.display.HTML object>"
      ]
     },
     "metadata": {},
     "output_type": "display_data"
    }
   ],
   "source": [
    "%%HTML\n",
    "<!-- Mejorar visualización en proyector -->\n",
    "<style>\n",
    ".rendered_html {font-size: 1.2em; line-height: 150%;}\n",
    "div.prompt {min-width: 0ex; }\n",
    ".container {width:95% !important;}\n",
    "</style>"
   ]
  },
  {
   "cell_type": "markdown",
   "metadata": {},
   "source": [
    "<h1 style=\"text-align:center\">Clase: Transformada de Fourier discreta (DFT)</h1>\n",
    "<h3 style=\"text-align:center\">ACUS099: Procesamiento digital de señales</h3>\n",
    "<p style=\"text-align:center\">Dr. Víctor Poblete <br>\n",
    "<a href=\"mailto:vpoblete@uach.cl\">vpoblete@uach.cl</a><br>\n",
    "<a href=\"https://github.com/vpobleteacustica/ACUS099-Procesamiento-digital-de-senales\">https://github.com/vpobleteacustica/ACUS099-Procesamiento-digital-de-senales</a><br> \n",
    "<p style=\"text-align:center\">Diego Espejo Alquinta - Ayudante <br>\n",
    "<a href=\"mailto:diego.espejo@alumnos.uach.cl\">diego.espejo@alumnos.uach.cl </a><br>\n",
    "<a href=\"http://www.acusticauach.cl\">www.acusticauach.cl</a><br> "
   ]
  },
  {
   "cell_type": "markdown",
   "metadata": {},
   "source": [
    "> + La DFT o transformada de Fourier discreta de $x[n]$ se define como:\n",
    "$$\n",
    "\\begin{align*}\n",
    "\\large X[k] &= \\large \\sum_{n=0}^{N-1} x[n]\\cdot e^{-j\\frac{2\\pi}{N}kn}\n",
    "\\end{align*}\n",
    "$$\n",
    "\n",
    "> + $k$ varía entre $0\\leq k\\leq N-1$; además, $\\frac{2\\pi}{N}=$ período fundamental; en tanto que, $N=$ número finito de muestras de $x[n]$\n",
    "\n",
    "> + Usando la notación: $W_N=e^{-j\\frac{2\\pi}{N}}$, podemos re-escribir:\n",
    "\n",
    "$$\n",
    "\\begin{align*}\n",
    "\\large X[k] &= \\large \\sum_{n=0}^{N-1} x[n]\\cdot W_N^{kn}\n",
    "\\end{align*}\n",
    "$$\n",
    "\n",
    "> + Ya que $x[n]$ y $X[k]$ forman un par de Fourier:\n",
    "$$\n",
    "\\begin{align*}\n",
    "\t\t\\large x[n] & \\large \\overset{\\mathscr{F}}{\\longleftrightarrow} X[k] \n",
    "\\end{align*}\n",
    "$$\n",
    "\n",
    "> + Definimos la transformada discreta de Fourier inversa como:\n",
    "\n",
    "$$\n",
    "\\begin{align*}\n",
    "\t\t\\large x[n] &= \\large \\frac{1}{N} \\sum_{k=0}^{N-1}X[k]e^{j\\frac{2\\pi}{N}kn} = \\large \\frac{1}{N} \\sum_{k=0}^{N-1}X[k]W_N^{-kn}\n",
    "\\end{align*}\n",
    "$$"
   ]
  },
  {
   "cell_type": "markdown",
   "metadata": {},
   "source": [
    "### Forma matricial\n",
    "> + Sea $x[n]$ una señal de tiempo discreto, tal que $x[0]=2$; $x[1]=3$; $x[2]=4$; $x[3]=4$.\n",
    "> + Calcular la DFT de $x[n]$.\n",
    "> + Calcula la IDFT."
   ]
  },
  {
   "cell_type": "markdown",
   "metadata": {},
   "source": [
    "### Solución:\n",
    "\n",
    "> + Escribimos $x[n]$ en la forma de un vector columna:\n",
    "\n",
    "$$\n",
    "x[n]=\n",
    "\\begin{bmatrix}\n",
    "  2 \\\\\n",
    "  3 \\\\\n",
    "  4 \\\\\n",
    "  4 \\\\\n",
    "\\end{bmatrix}\n",
    "= \n",
    "\\begin{bmatrix}\n",
    "  x[0] \\\\\n",
    "  x[1] \\\\\n",
    "  x[2] \\\\\n",
    "  x[3] \\\\\n",
    "\\end{bmatrix},\n",
    "\\quad\\quad \\text{con}\\,\\, 0 \\leq n \\leq 3\n",
    "$$\n",
    "\n",
    "> + Sea $W_N^{kn}$ tal que $k$ será un índice de fila y $n$ un índice de columna. Si k=0 y n=0 entonces: $W_N^{0\\cdot 0}=1$\n",
    "\n",
    "$$\n",
    "\\begin{align*}\n",
    "[W_N] = \n",
    "\\begin{bmatrix}\n",
    "W_N^{0\\cdot 0} & W_N^{0\\cdot 1} & W_N^{0\\cdot 2} & W_N^{0\\cdot 3}\\\\\n",
    "W_N^{1\\cdot 0} & W_N^{1\\cdot 1} & W_N^{1\\cdot 2} & W_N^{1\\cdot 3}\\\\\n",
    "W_N^{2\\cdot 0} & W_N^{2\\cdot 1} & W_N^{2\\cdot 2} & W_N^{2\\cdot 3}\\\\\n",
    "W_N^{3\\cdot 0} & W_N^{3\\cdot 1} & W_N^{3\\cdot 2} & W_N^{3\\cdot 3}\n",
    "\\end{bmatrix}\n",
    "\\end{align*}\n",
    "$$\n",
    "\n",
    "> + Por lo que podemos escribir la DFT en forma matricial:\n",
    "\n",
    "$$\n",
    "\\begin{align*}\n",
    "\\begin{bmatrix}\n",
    "  X[0] \\\\\n",
    "  X[1] \\\\\n",
    "  X[2] \\\\\n",
    "  X[3] \\\\\n",
    "\\end{bmatrix}\n",
    "= \n",
    "\\begin{bmatrix}\n",
    "W_N^{0\\cdot 0} & W_N^{0\\cdot 1} & W_N^{0\\cdot 2} & W_N^{0\\cdot 3}\\\\\n",
    "W_N^{1\\cdot 0} & W_N^{1\\cdot 1} & W_N^{1\\cdot 2} & W_N^{1\\cdot 3}\\\\\n",
    "W_N^{2\\cdot 0} & W_N^{2\\cdot 1} & W_N^{2\\cdot 2} & W_N^{2\\cdot 3}\\\\\n",
    "W_N^{3\\cdot 0} & W_N^{3\\cdot 1} & W_N^{3\\cdot 2} & W_N^{3\\cdot 3}\n",
    "\\end{bmatrix}\n",
    "=\n",
    "\\begin{bmatrix}\n",
    "  x[0] \\\\\n",
    "  x[1] \\\\\n",
    "  x[2] \\\\\n",
    "  x[3] \\\\\n",
    "\\end{bmatrix}\n",
    "\\end{align*}\n",
    "$$\n",
    "\n",
    "$$\n",
    "\\begin{align*}\n",
    "\\hspace{1.8cm}= \n",
    "\\begin{bmatrix}\n",
    "1 & 1 & 1 & 1\\\\\n",
    "1 & W_N^{1\\cdot 1} & W_N^{1\\cdot 2} & W_N^{1\\cdot 3}\\\\\n",
    "1 & W_N^{2\\cdot 1} & W_N^{2\\cdot 2} & W_N^{2\\cdot 3}\\\\\n",
    "1 & W_N^{3\\cdot 1} & W_N^{3\\cdot 2} & W_N^{3\\cdot 3}\n",
    "\\end{bmatrix}\n",
    "=\n",
    "\\begin{bmatrix}\n",
    "  x[0] \\\\\n",
    "  x[1] \\\\\n",
    "  x[2] \\\\\n",
    "  x[3] \\\\\n",
    "\\end{bmatrix}\n",
    "\\end{align*}\n",
    "$$\n",
    "\n",
    "> + En nuestro problema, tenemos que el número total de muestras de la señal es igual a $N = 4$.\n",
    "$$\n",
    "\\begin{align*}\n",
    "W_{N=4}^{1} & = \\left( e^{-j\\frac{2\\pi}{N}} \\right)^1\\\\\n",
    "            & = \\left( e^{-j\\frac{2\\pi}{4}} \\right)\\\\\n",
    "            & = -j\n",
    "\\end{align*}\n",
    "$$\n"
   ]
  },
  {
   "cell_type": "code",
   "execution_count": null,
   "metadata": {},
   "outputs": [],
   "source": []
  }
 ],
 "metadata": {
  "kernelspec": {
   "display_name": "acus099-env",
   "language": "python",
   "name": "acus099-env"
  },
  "language_info": {
   "codemirror_mode": {
    "name": "ipython",
    "version": 3
   },
   "file_extension": ".py",
   "mimetype": "text/x-python",
   "name": "python",
   "nbconvert_exporter": "python",
   "pygments_lexer": "ipython3",
   "version": "3.9.4"
  }
 },
 "nbformat": 4,
 "nbformat_minor": 4
}
