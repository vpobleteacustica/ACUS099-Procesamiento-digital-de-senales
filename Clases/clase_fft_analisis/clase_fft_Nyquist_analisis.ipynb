{
 "cells": [
  {
   "cell_type": "code",
   "execution_count": null,
   "metadata": {},
   "outputs": [],
   "source": [
    "%%HTML\n",
    "<!-- Mejorar visualización en proyector -->\n",
    "<style>\n",
    ".rendered_html {font-size: 1.2em; line-height: 150%;}\n",
    "div.prompt {min-width: 0ex; }\n",
    ".container {width:95% !important;}\n",
    "</style>"
   ]
  },
  {
   "cell_type": "markdown",
   "metadata": {},
   "source": [
    "<h1 style=\"text-align:center\">Clase: Analicemos el algoritmo de la transformada rápida de Fourier (FFT)</h1>\n",
    "<h3 style=\"text-align:center\">ACUS099: Procesamiento digital de señales</h3>\n",
    "<p style=\"text-align:center\">Dr. Víctor Poblete <br>\n",
    "<a href=\"mailto:vpoblete@uach.cl\">vpoblete@uach.cl</a><br>\n",
    "<a href=\"https://github.com/vpobleteacustica/ACUS099-Procesamiento-digital-de-senales\">https://github.com/vpobleteacustica/ACUS099-Procesamiento-digital-de-senales</a><br> \n",
    "<p style=\"text-align:center\">Diego Espejo Alquinta - Ayudante <br>\n",
    "<a href=\"mailto:diego.espejo@alumnos.uach.cl\">diego.espejo@alumnos.uach.cl </a><br>\n",
    "<a href=\"http://www.acusticauach.cl\">www.acusticauach.cl</a><br> "
   ]
  },
  {
   "cell_type": "code",
   "execution_count": 1,
   "metadata": {},
   "outputs": [],
   "source": [
    "from scipy.fftpack import fft, fftshift, ifft\n",
    "from scipy.fftpack import fftfreq\n",
    "import scipy.io.wavfile as wavfile\n",
    "import scipy\n",
    "from scipy import signal\n",
    "import librosa\n",
    "import numpy as np\n",
    "import matplotlib.pyplot as plt\n",
    "import IPython.display as ipd\n",
    "from matplotlib.ticker import ScalarFormatter\n",
    "from matplotlib.ticker import EngFormatter\n",
    "%matplotlib notebook\n"
   ]
  },
  {
   "cell_type": "markdown",
   "metadata": {},
   "source": [
    "### La transformada continua de Fourier (FT)\n",
    "> + La transformada continua de Fourier se usa para representar una **función** continua como una suma de armónicos constituyentes. \n",
    "> + Es una transformación **lineal**, e **invertible**, entre la representación en el dominio del **tiempo** de una función, que denotaremos por $x(t)$, y el dominio de la **frecuencia**,\n",
    "representación que denotaremos por $X(\\omega)$. \n",
    "> + En una dimensión como es el caso de señales de audio, el **par de transformadas de Fourier** que consiste en la **transformada directa** y\n",
    "**transformada inversa**, se definen como:\n",
    "$$\n",
    "\\begin{align*}\n",
    "X(\\omega) = & \\int_{-\\infty}^{\\infty} x(t)\\cdot e^{-j\\omega t} dt\\quad \\quad\\quad{\\text{(transformada directa)}}\\\\\n",
    "x(t)      = & \\,\\frac{1}{2\\pi}\\int_{-\\infty}^{\\infty} X(\\omega)\\cdot e^{j\\omega t} d\\omega \\quad \\,{\\text{(transformada inversa)}}\n",
    "\\end{align*}\n",
    "$$\n",
    "> + donde $j=\\sqrt{-1}$, y la exponencial compleja: $e^{j\\omega t}= \\cos\\omega t + j\\sin\\omega t$.\n",
    "> + Se puede pensar que es una **transformación en un conjunto diferente de funciones base**. \n",
    "> + Como funciones base se utilizan **exponenciales complejas** de diversas frecuencias. \n",
    "> + Existen otras transformadas, como Z, Laplace, Coseno, Wavelet, pero se diferencian porque usan otras funciones base.\n",
    "> + Un par de transformadas de Fourier a menudo se escribe como: \n",
    ">> + $x(t)\\overset{\\mathscr{F}}{\\longleftrightarrow} X(\\omega)$\n",
    ">> + O bien, como $\\mathscr{F}\\left\\lbrace x(t) \\right\\rbrace = X(\\omega)$\n",
    ">> + donde $\\mathscr{F}\\left\\lbrace \\cdot \\right\\rbrace$ es el operador matemático transformada de Fourier que **opera** sobre la función continua.\n",
    "> + Notar que la transformada de Fourier se define naturalmente en términos de funciones complejas. \n",
    "> + Tanto $x(t)$ como $X(\\omega)$ son, en general, funciones de valor complejo.\n",
    "> + Si $x(t)$ es nuestra señal de audio (es decir, nuestros datos de entrada son las amplitudes de una señal de audio), nos referimos a $F(\\omega)$ como el **espectro de la señal** (con un número continuo de frecuencias).\n"
   ]
  },
  {
   "cell_type": "markdown",
   "metadata": {},
   "source": [
    "### La transformada discreta de Fourier (DFT)\n",
    "> + Si trabajamos sobre un computador, usamos la **Transformada Discreta de Fourier** (DFT). \n",
    "> + Las ecuaciones para la DFT son muy similares a las de la transformada continua de Fourier.\n",
    "> + En este caso, tanto la **función** como su **transformada de Fourier** se reemplazan por sus contrapartes **discretas** (conjunto discreto de muestras), y se denominará la DFT.\n",
    "> + Por lo tanto, la DFT trabaja con señales de **duración finita**, de duración $N$.\n",
    "> + Análogamente, el **par de transformadas discretas de Fourier** que consiste en la **transformada discreta directa** y\n",
    "**transformada discreta inversa**, se definen como:\n",
    "$$\n",
    "\\begin{align*}\n",
    "X[k] = & \\sum_{n=0}^{N-1} x[n] \\cdot W_N^{kn} \\quad \\quad\\quad{\\text{(transformada discreta directa)}}\\\\\n",
    "x[n]      = & \\,\\frac{1}{N}\\sum_{n=0}^{N-1} X[k]\\cdot W_N^{-kn} \\quad \\,{\\text{(transformada discreta inversa)}}\n",
    "\\end{align*}\n",
    "$$\n",
    "> + donde $x[n]$ es una señal de audio en tiempo discreto y de duración $N$, $X[k]$ es el **espectro discreto de la señal** (con un número discreto de frecuencias), y $W_N=e^{-j\\frac{2\\pi}{N}}$.\n",
    "\n",
    "### La trasformada rápida de Fourier (FFT)\n",
    "> + La FFT es un algoritmo rápido para calcular la DFT de una secuencia discreta.\n",
    "> + Fue publicado por primera vez por **Cooley** (IBM) y **Tukey** (Princeton University) en 1965 [https://www.ams.org/journals/mcom/1965-19-090/S0025-5718-1965-0178586-1/S0025-5718-1965-0178586-1.pdf].\n",
    "> + Sin embargo, la idea original se remonta a un artículo inédito de Gauss en 1805 [https://www.cis.rit.edu/class/simg716/Gauss_History_FFT.pdf]. \n",
    "> + La FFT es considerada como uno de los algoritmos más importantes en computación científica.\n",
    "> + El algoritmo de la FFT va dividiendo recursivamente la DFT, en DFTs más pequeños para acelerar el cálculo. \n",
    "> + Como resultado el tiempo de cómputo se reduce asombrosamente, ya que la cantidad de operaciones de la DFT original que es de un orden $N^{2}$, disminuye a un orden de ($N\\cdot {\\text{log}}_2{N}$) operaciones, donde $N$ es el número total de datos. \n",
    "> + Esta reducción en el tiempo de cómputo es muy importante, especialmente para conjuntos con grandes volúmenes de datos. \n",
    "> + La FFT es más eficiente si su **largo N** (se dice que $N$ es el largo de la FFT) es una potencia de dos: $N = 2^{L} \\,\\, {\\text{elementos}}.$\n",
    "> + Basada en el lema de Danielson-Lanczos [https://mathworld.wolfram.com/Danielson-LanczosLemma.html], la FFT de largo $N$ se escribe como una suma de 2 DFTs de largo $N/2$.\n",
    "> + La FFT la podemos aplicar al largo entero de la señal en el tiempo discreto, por lo que el largo de la FFT sería igual al largo de la señal. Sin embargo, ya que la FFT es más eficiente cuando su largo es una potencia de 2, se aplica una técnica muy clásica llamada **zero padding** que agrega ceros hasta que la señal llega a ser de un largo que es potencia de 2.\n",
    ">> + Por ejemplo, supongamos que $x[n]$ tiene largo 3: $x = [3.4, 2.56, 1.3]$, de tal manera que cambiamos $x[n]$ para que sea: $x = [3.4, 2.56, 1.3, 0.0]$, y aplicamos una FFT de largo 4.\n",
    "> + Un gran PERO... es que si nuestra señal es muy larga, se vuelve extremadamente ineficaz hacer todo a la vez. No es práctico intentar hacer una FFT a un archivo de audio de la larga longitud. En ese caso, dividimos la señal en ventanas de un tamaño razonable, y realizamos una FFT en cada una de esas ventanas y promediamos los resultados.\n",
    "> + La DFT nos proporciona **información sobre un número discreto de frecuencias**, por lo que debemos determinar qué frecuencias son éstas.\n",
    "> + Para esto, muestreamos una señal continua $x(t)$ a intervalos equidistantes espaciados $\\Delta t$, generando una secuencia de valores muestreados.\n",
    "> + El recíproco de este espaciamiento $\\Delta t$, nos da la **tasa de muestreo**, o también llamada **frecuencia de muestreo:** \n",
    "$$\n",
    "\\begin{align*}\n",
    "f_s &= \\frac{1}{\\Delta t}\\quad \\quad\\quad{\\text{(frecuencia de muestreo)}}\n",
    "\\end{align*}\n",
    "$$\n",
    "> + Para cualquier intervalo de muestreo $\\Delta t$, existe la frecuencia $f_{max} $ llamada **frecuencia límite de Nyquist**:\n",
    "$$\n",
    "\\begin{align*}\n",
    "f_{max} &= \\frac{f_s}{2}\\quad \\quad\\quad{\\text{(frecuencia de Nyquist)}}\n",
    "\\end{align*}\n",
    "$$\n",
    "> + La frecuencia límite de Nyquist es la frecuencia más alta que puede ser representada por el proceso de muestreo a intervalos de $\\Delta t$. \n",
    "> + Debemos muestrear la señal $x(t)$ al menos 2 veces la frecuencia más alta contenida en la señal.\n",
    "> + Si $f_s =$ 1KHz, la frecuencia límite de Nyquist es 500 Hz.\n",
    "\n",
    "\n"
   ]
  },
  {
   "cell_type": "code",
   "execution_count": null,
   "metadata": {},
   "outputs": [],
   "source": []
  }
 ],
 "metadata": {
  "kernelspec": {
   "display_name": "acus099-env",
   "language": "python",
   "name": "acus099-env"
  },
  "language_info": {
   "codemirror_mode": {
    "name": "ipython",
    "version": 3
   },
   "file_extension": ".py",
   "mimetype": "text/x-python",
   "name": "python",
   "nbconvert_exporter": "python",
   "pygments_lexer": "ipython3",
   "version": "3.9.4"
  }
 },
 "nbformat": 4,
 "nbformat_minor": 4
}
