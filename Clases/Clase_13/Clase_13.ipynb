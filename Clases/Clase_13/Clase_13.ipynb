{
 "cells": [
  {
   "cell_type": "code",
   "execution_count": 1,
   "metadata": {},
   "outputs": [
    {
     "data": {
      "text/html": [
       "<!-- Mejorar visualización en proyector -->\n",
       "<style>\n",
       ".rendered_html {font-size: 1.2em; line-height: 150%;}\n",
       "div.prompt {min-width: 0ex; }\n",
       ".container {width:95% !important;}\n",
       "</style>\n"
      ],
      "text/plain": [
       "<IPython.core.display.HTML object>"
      ]
     },
     "metadata": {},
     "output_type": "display_data"
    }
   ],
   "source": [
    "%%HTML\n",
    "<!-- Mejorar visualización en proyector -->\n",
    "<style>\n",
    ".rendered_html {font-size: 1.2em; line-height: 150%;}\n",
    "div.prompt {min-width: 0ex; }\n",
    ".container {width:95% !important;}\n",
    "</style>"
   ]
  },
  {
   "cell_type": "markdown",
   "metadata": {},
   "source": [
    "<h1 style=\"text-align:center\">Semana 8. Clase 13: Ejercicios de transformada de Fourier</h1>\n",
    "<h3 style=\"text-align:center\">ACUS099: Procesamiento digital de señales</h3>\n",
    "<p style=\"text-align:center\">Dr. Víctor Poblete <br>\n",
    "<a href=\"mailto:vpoblete@uach.cl\">vpoblete@uach.cl</a><br>\n",
    "<a href=\"https://github.com/vpobleteacustica/ACUS099-Procesamiento-digital-de-senales\">https://github.com/vpobleteacustica/ACUS099-Procesamiento-digital-de-senales</a><br> \n",
    "<p style=\"text-align:center\">Diego Espejo Alquinta - Ayudante <br>\n",
    "<a href=\"mailto:diego.espejo@alumnos.uach.cl\">diego.espejo@alumnos.uach.cl </a><br>\n",
    "<a href=\"http://www.acusticauach.cl\">www.acusticauach.cl</a><br> "
   ]
  },
  {
   "cell_type": "markdown",
   "metadata": {},
   "source": [
    "### Calcular la transformada de Fourier:\n",
    "\n",
    "> 1) $x[n] = u[n]-u[n-N]$\n",
    ">> + Truco: Expresar su resultado como:\n",
    "$$\n",
    "\\begin{align*}\n",
    "    X(e^{j\\omega}) &=\\frac{e^{-j\\frac{\\omega N}{2}}}{ e^{-j \\frac{\\omega}{2}} }\\cdot\\frac{\\left(e^{j\\frac{\\omega N}{2}}- e^{-j\\frac{\\omega N}{2}} \\right)}{\\left(e^{j\\frac{\\omega }{2}}- e^{-j\\frac{\\omega }{2}} \\right)}\n",
    "\\end{align*}\n",
    "$$\n",
    ">> + Graficar el espectro de magnitud y el espectro de fase.\n",
    "\n",
    "> 2) Encontrar la transformada inversa de Fourier del espectro $X(e^{j\\omega})$, el cual es un escalón rectangular en el dominio de la frecuencia, dentro del período $[-\\pi,\\pi]$:\n",
    "\n",
    "$$\n",
    "\\begin{align*}\n",
    "    X(e^{j\\omega}) & =\\begin{cases}\n",
    "        1, & \\text{para } -\\omega_{0}< \\omega < \\omega_{0} \\\\\n",
    "        0, & \\text{otro caso}\n",
    "\\end{cases} \n",
    "\\end{align*}\n",
    "$$\n",
    "\n",
    ">> + donde $0<\\omega_{0}<\\pi.$ Truco: Por definición, considerar que la función sinc es,\n",
    "$$\n",
    "\\begin{align*}\n",
    "    sinc(x) & = \\frac{{\\text{sen}}\\,\\pi x}{\\pi x} \n",
    "\\end{align*}\n",
    "$$\n",
    ">> + Graficar la transformada inversa de Fourier obtenida.\n",
    "\n",
    "> 3) $x[n] = \\delta[n]$. Graficar $x[n]$ y $X(e^{j\\omega})$.\n",
    "\n",
    "> 4) Encontrar la transformada inversa de Fourier del espectro $X(e^{j\\omega})=2\\pi\\delta (\\omega).$ Graficar $x[n]$ y $X(e^{j\\omega})$.\n",
    "\n",
    "> 5) Encontrar la transformada inversa de Fourier del espectro $X(e^{j\\omega})=2\\pi\\delta (\\omega-\\omega_{0}).$ Graficar $x[n]$ y $X(e^{j\\omega})$.\n",
    "\n",
    "> 6) Encontrar la transformada inversa de Fourier del espectro $X(e^{j\\omega})=2\\pi\\delta (\\omega+\\omega_{0}).$ Graficar $x[n]$ y $X(e^{j\\omega})$.\n",
    "\n",
    "> 7) $x[n] = {\\text{cos}}\\, \\omega_{0}n$. Graficar $x[n]$ y $X(e^{j\\omega})$."
   ]
  },
  {
   "cell_type": "code",
   "execution_count": null,
   "metadata": {},
   "outputs": [],
   "source": []
  }
 ],
 "metadata": {
  "kernelspec": {
   "display_name": "acus099-env",
   "language": "python",
   "name": "acus099-env"
  },
  "language_info": {
   "codemirror_mode": {
    "name": "ipython",
    "version": 3
   },
   "file_extension": ".py",
   "mimetype": "text/x-python",
   "name": "python",
   "nbconvert_exporter": "python",
   "pygments_lexer": "ipython3",
   "version": "3.8.3"
  }
 },
 "nbformat": 4,
 "nbformat_minor": 4
}
