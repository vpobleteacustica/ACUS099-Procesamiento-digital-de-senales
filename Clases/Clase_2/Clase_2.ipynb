{
 "cells": [
  {
   "cell_type": "markdown",
   "metadata": {},
   "source": [
    "#### Modificando la apariencia del notebook"
   ]
  },
  {
   "cell_type": "code",
   "execution_count": 10,
   "metadata": {},
   "outputs": [
    {
     "data": {
      "text/html": [
       "<!-- Mejorar visualización en proyector -->\n",
       "<style>\n",
       ".rendered_html {font-size: 1.2em; line-height: 150%;}\n",
       "div.prompt {min-width: 0ex; }\n",
       ".container {width:95% !important;}\n",
       "</style>\n"
      ],
      "text/plain": [
       "<IPython.core.display.HTML object>"
      ]
     },
     "metadata": {},
     "output_type": "display_data"
    }
   ],
   "source": [
    "%%HTML\n",
    "<!-- Mejorar visualización en proyector -->\n",
    "<style>\n",
    ".rendered_html {font-size: 1.2em; line-height: 150%;}\n",
    "div.prompt {min-width: 0ex; }\n",
    ".container {width:95% !important;}\n",
    "</style>"
   ]
  },
  {
   "cell_type": "markdown",
   "metadata": {},
   "source": [
    "<h1 style=\"text-align:center\">Semana 1. Clase 2: Introducción señales en tiempo discreto y sistemas</h1>\n",
    "<h3 style=\"text-align:center\">ACUS099: Procesamiento digital de señales</h3>\n",
    "<p style=\"text-align:center\">Dr. Víctor Poblete <br>\n",
    "<a href=\"mailto:vpoblete@uach.cl\">vpoblete@uach.cl</a><br>\n",
    "<a href=\"https://github.com/vpobleteacustica/ACUS099-Procesamiento-digital-de-senales\">https://github.com/vpobleteacustica/ACUS099-Procesamiento-digital-de-senales</a><br> \n",
    "<p style=\"text-align:center\">Diego Espejo Alquinta - Ayudante <br>\n",
    "<a href=\"mailto:diego.espejo@alumnos.uach.cl\">diego.espejo@alumnos.uach.cl </a><br>\n",
    "<a href=\"http://www.acusticauach.cl\">www.acusticauach.cl</a><br> "
   ]
  },
  {
   "cell_type": "markdown",
   "metadata": {},
   "source": [
    "## Indice \n",
    "+ [Procesamiento de señales](#id1)\n",
    "    - [Señales en tiempo discreto.](#id11)\n"
   ]
  },
  {
   "cell_type": "markdown",
   "metadata": {},
   "source": [
    "### Abrir Python a través del terminal\n",
    "\n",
    "> + Abrir la consola o terminal. Tipear “python3” (para versión 3):"
   ]
  },
  {
   "cell_type": "markdown",
   "metadata": {},
   "source": [
    "<img src=\"PantallaPython.png\">"
   ]
  },
  {
   "cell_type": "markdown",
   "metadata": {},
   "source": [
    "## Procesamiento de señales<a name='id1'></a>.\n",
    "\n",
    "> + Matemáticamente, una señal es una **función** que describe cómo varía una cantidad a través del tiempo (por ejemplo, una señal de voz), o del espacio (por ejemplo, una imagen).\n",
    "> + Físicamente, una señal **transporta** un mensaje o información cuando se transmite. \n",
    "> + Ejemplos de señales:\n",
    "    * Señales de voz transmiten via ondas acústicas (lenguaje natural).\n",
    "    * Gestos de la lenguaje de señas usada por la comunidad sorda (lenguaje visual). \n",
    "    * Señales de radar que transmiten la posición y velocidad de objetivos vía ondas electromagnéticas.\n",
    "    * Señeales electroencefalográficas que transmiten información de procesos dentro del cerebro.\n",
    "    * Señales financieras que transmiten información de eventos en la economía.\n",
    "> + Procesamiento de señales involucra la teoría y aplicación de **transformaciones** sobre una señal, realizadas por algoritmos, para:\n",
    ">> + filtrar, codificar, transmitir, estimar, detectar, analizar, reconocer,\n",
    "sintetizar, grabar y reproducir.\n",
    ">> + donde una señal puede incuir: audio, video, voz, imágenes, comunicaciones, sismos,\n",
    "sonar, radar, música, etc. \n",
    "> + Frecuentemente, se llama **serie** a una señal dependiente del tiempo.  \n",
    "> + Hay distintos tipos de fuentes de series de tiempo, por ejemplo, el precio del petróleo, el valor de las acciones, movimientos sísmicos, procesos biológicos.\n",
    "> + En procesamiento de señales se realizan transformaciones sobre la señal que pueden modificar sus características por ejemplo, su **amplitud**, su **forma de onda temoral**, su **fase**, su **frecuencia**, y muchas otras más.\n",
    "> + Se busca extraer de la señal sus características (su nombre más común es *features*), que son más informativas de la señal y que ayuden a mejorarla (enhancement), distinguirla de otras señal, o separarla del ruido de fondo o de distorsiones externas. \n",
    "> + Algunos tópicos abordados en procesamiento de señales son:\n",
    "    1. Procesamiento de audio, música y voz.\n",
    "    1. Reconocimiento de voz.\n",
    "    1. Tecnología de audífonos.\n",
    "    1. Conducción autónoma.\n",
    "    1. Reconocimiento de imágenes.\n",
    "    1. Ciencia de datos.\n",
    "    1. Inteligencia artificial, aprendizaje de máquinas, redes neuronal profundas.\n",
    "    \n",
    "> + Fundamentos en: \n",
    "    1. Números complejos y aritmética.\n",
    "    1. Álgebra lineal (vectores, matrices, tensores, producto punto, valores y vectores propios, bases, etc. \n",
    "    1. Series (finita e infinita).\n",
    "    1. Cálculo en varias variables (derivadas e integrales)\n",
    "    1. Python    "
   ]
  },
  {
   "cell_type": "markdown",
   "metadata": {},
   "source": [
    "## Señales en tiempo discreto (señales discretas).\n",
    "\n",
    "> + Una señal en tiempo discreto $x[n] \\in \\mathbb{C}$ es una secuencia de valores que depende del índice discreto $n \\in \\mathbb{Z}$ Esta señal $x[n]$ puede haber sido obtenido por *sampleo* (muestreo) de $x[k] = x(n\\,T)$, donde $T$ es el período o intervalo de muestreo, de una señal de tiempo continuo $x(t)$. \n"
   ]
  },
  {
   "cell_type": "markdown",
   "metadata": {},
   "source": [
    "## Señal exponencial complexa discreta\n",
    "\n",
    "La señal exponencial compleja discreta se define por:\n",
    "\n",
    "\\begin{equation}\n",
    "x[n] = e^{(\\Sigma + j \\Omega) \\, n} = z^n\n",
    "\\end{equation}\n",
    "\n",
    "donde $z = e^{\\Sigma + j \\Omega}$ representa la frecuencia compleja $z \\in \\mathbb{C}$ con $\\Sigma, \\Omega \\in \\mathbb{R}$. La señal exponencial compleja discreta puede ser relacionada a la señal exponencial compleja continua $x(t) = e^{(\\sigma + j \\omega) t}$ a través del sampleo:\n",
    "\n",
    "\\begin{equation}\n",
    "x[n] = x(nT) = e^{(\\sigma + j \\omega) n T} = e^{( \\sigma T + j \\omega T ) n}\n",
    "\\end{equation}\n",
    "\n",
    "Si comparamos las dos definiciones, vemos que la señal discreta muestra que $\\Sigma = \\sigma T$ and $\\Omega = \\omega T$. Debido a esta relación, la última se llama **frecuencia normalizada** $\\Omega$. Usando [fórmula de Euler](https://en.wikipedia.org/wiki/Euler's_formula), la definición de la señal exponencial compleja discreta puede ser re-escrita como:\n",
    "\n",
    "\\begin{equation}\n",
    "x[n] = e^{\\Sigma n} \\cos[\\Omega n] + j e^{\\Sigma n} \\sin[\\Omega n]\n",
    "\\end{equation}\n",
    "\n",
    "Las partes real e imaginaria de la señal exponencial están dada por una senoidal o cosenoidal discreta ponderada, con frecuencia normalizada $\\Omega$. La frecuencia normalizada $\\Omega$ es un pocquito ambigüa debido a la periodicidad de la función coseno o seno para $n$ discreto. Por ejemplo,\n",
    "\n",
    "\\begin{equation}\n",
    "\\cos[\\Omega n] = \\cos[(\\Omega + N \\cdot 2 \\pi) \\cdot n]\n",
    "\\end{equation}\n",
    "\n",
    "con $N \\in \\mathbb{Z}$. Se puede concluir que la frecuencia normalizada $\\Omega$ es única para $-\\pi < \\Omega < \\pi$ (también podría haberse elegido el intervalo $0 < \\Omega < 2\\pi$. Pero, lo usual es $-\\pi < \\Omega < \\pi$). \n",
    "\n",
    "Esto también es evidente cuando se considera el sampleo de una señal exponencial continua, como se muestra arriba.\n",
    "\n",
    "\n",
    "Para una frecuencia de muestreo crítica, es decir, $\\omega_\\text{s} = 2 \\cdot \\omega$. Si usamos: $T = \\frac{2 \\pi}{\\omega_\\text{s}}$, obtenemos: $\\Omega = \\omega T = \\pi$. Se puede concluir que la frecuencia normalizada $\\Omega = \\pm \\pi$ representa la más alta y más baja frecuencia normalizada que una señal sampleada puede representar.\n",
    "\n",
    "La función exponencial compleja es solamente periódica con respecto al índice $n$, si:\n",
    "\n",
    "\\begin{equation}\n",
    "x[n] = x[n + N \\cdot N_\\text{p}]\n",
    "\\end{equation}\n",
    "\n",
    "para $N \\in \\mathbb{Z}$ y $N_\\text{p} \\in \\mathbb{N}$. La periodicidad de la función exponencial compleja está dada por:\n",
    "\n",
    "\\begin{equation}\n",
    "N_\\text{p} = \\frac{2 \\pi}{\\Omega}\n",
    "\\end{equation}\n",
    "\n",
    "Se sigue que del requerimiento $N_\\text{p} \\in \\mathbb{N}$ para una secuencia periódica, que no todas las frecuencias normalizadas $\\Omega$ resultan en una señal exponencial compleja discreta. Solamente $\\Omega = \\frac{2 \\pi}{N_\\text{p}}$ con $N_\\text{p} \\in \\mathbb{N}$ es periódica con período $N_\\text{p}$. Samplear una una señal exponencial compleja continua puede resultar en una señal exponencial compleja discreta aperiódica. La señal exponencial compleja discreta s epuede expresar en términos de su magnitud y su fase:\n",
    "\n",
    "\\begin{equation}\n",
    "x[n] = z^n = |z|^n \\cdot e^{j \\varphi(z) n}\n",
    "\\end{equation}\n",
    "\n",
    "donde por comparación con su definición $|z| = |e^\\Sigma|$ and $\\varphi(z) = \\Omega$. Est nos permite interpretar la frecuencia compleja $z$. Su fase $\\varphi(z)$ es igual a la frecuencia normalizada $\\Omega$ de su parte armónica $e^{j \\Omega n}$. esta es ponderada por la magnitud $|z|^n$. Con índice creciente $n >0$, la magnitud de la señal compleja es:\n",
    "\n",
    "* exponencialmente decreciente para: $|z| < 1$ ($\\Sigma < 0$)\n",
    "* constante uno para: $|z| = 1$ ($\\Sigma = 0$)\n",
    "* exponencialmente creciente para: $|z| > 1$ ($\\Sigma > 0$)."
   ]
  },
  {
   "cell_type": "markdown",
   "metadata": {},
   "source": [
    "**Ejemplo**\n",
    "\n",
    "Este ejemplo, ilustra la señal exponencial compleja discreta y sus parámetros. La librería [NumPy](http://www.numpy.org/) no ayuda para la parte matemática numérica. En procesamiento de señales discretas es común definir señales discretas como vectores que contienen valores $x[n]$ para un conjunto dado de índices $n$. Dos funciones son definidas como pre-requisito. Una para generación de la señal exponencial y otra para dibujar su parte real y su parte imaginaria."
   ]
  },
  {
   "cell_type": "code",
   "execution_count": 1,
   "metadata": {},
   "outputs": [],
   "source": [
    "import numpy as np\n",
    "import matplotlib.pyplot as plt\n",
    "%matplotlib inline\n",
    "\n",
    "\n",
    "def exponential_signal(k, Sigma, Omega):\n",
    "    return np.exp((Sigma + 1j * Omega) * k)\n",
    "\n",
    "\n",
    "def plot_signal(k, x):\n",
    "    plt.figure(figsize=(10, 4))\n",
    "    plt.subplot(121)\n",
    "    plt.stem(k, np.real(x))\n",
    "    plt.xlabel('$k$')\n",
    "    plt.ylabel(r'$\\Re \\{ x[k] \\}$')\n",
    "\n",
    "    plt.subplot(122)\n",
    "    plt.stem(k, np.imag(x))\n",
    "    plt.xlabel('$k$')\n",
    "    plt.ylabel(r'$\\Im \\{ x[k] \\}$')\n",
    "    plt.tight_layout()"
   ]
  },
  {
   "cell_type": "markdown",
   "metadata": {},
   "source": [
    "El vector `x` contiene las muestras de la señal exponencial compleja para un conjunto dado de índices $n$, $\\Sigma = 0.025$ and $\\Omega = 0.5$. Sus primeros diez valores son ploteados."
   ]
  },
  {
   "cell_type": "code",
   "execution_count": 2,
   "metadata": {},
   "outputs": [
    {
     "data": {
      "text/plain": [
       "array([ 1.        +0.j        ,  0.89979867+0.49156225j,\n",
       "        0.5680042 +0.88461412j,  0.07624651+1.07518404j,\n",
       "       -0.45991338+1.00492907j, -0.90781465+0.67815778j,\n",
       "       -1.15020718+0.16395806j, -1.11555049-0.41786919j,\n",
       "       -0.79836212-0.92436066j, -0.26398437-1.22418317j])"
      ]
     },
     "execution_count": 2,
     "metadata": {},
     "output_type": "execute_result"
    }
   ],
   "source": [
    "n = np.arange(31)\n",
    "x = exponential_signal(n, 0.025, 0.5)\n",
    "x[:10]"
   ]
  },
  {
   "cell_type": "markdown",
   "metadata": {},
   "source": [
    "Usualmente usamos para visualizar 'stem'-plots. La librería matplotlib se usa para visualizar. Las partes real e imaginaria se muestran a la izquierda y derecha, respectivamente."
   ]
  },
  {
   "cell_type": "code",
   "execution_count": 4,
   "metadata": {},
   "outputs": [
    {
     "name": "stderr",
     "output_type": "stream",
     "text": [
      "/home/kasparov/.local/lib/python3.6/site-packages/ipykernel_launcher.py:13: UserWarning: In Matplotlib 3.3 individual lines on a stem plot will be added as a LineCollection instead of individual lines. This significantly improves the performance of a stem plot. To remove this warning and switch to the new behaviour, set the \"use_line_collection\" keyword argument to True.\n",
      "  del sys.path[0]\n",
      "/home/kasparov/.local/lib/python3.6/site-packages/ipykernel_launcher.py:18: UserWarning: In Matplotlib 3.3 individual lines on a stem plot will be added as a LineCollection instead of individual lines. This significantly improves the performance of a stem plot. To remove this warning and switch to the new behaviour, set the \"use_line_collection\" keyword argument to True.\n"
     ]
    },
    {
     "data": {
      "image/png": "[encoded data removed]",
      "text/plain": [
       "<Figure size 720x288 with 2 Axes>"
      ]
     },
     "metadata": {
      "needs_background": "light"
     },
     "output_type": "display_data"
    }
   ],
   "source": [
    "plot_signal(n, x)"
   ]
  },
  {
   "cell_type": "code",
   "execution_count": null,
   "metadata": {},
   "outputs": [],
   "source": []
  }
 ],
 "metadata": {
  "kernelspec": {
   "display_name": "Python 3",
   "language": "python",
   "name": "python3"
  },
  "language_info": {
   "codemirror_mode": {
    "name": "ipython",
    "version": 3
   },
   "file_extension": ".py",
   "mimetype": "text/x-python",
   "name": "python",
   "nbconvert_exporter": "python",
   "pygments_lexer": "ipython3",
   "version": "3.6.9"
  }
 },
 "nbformat": 4,
 "nbformat_minor": 4
}
