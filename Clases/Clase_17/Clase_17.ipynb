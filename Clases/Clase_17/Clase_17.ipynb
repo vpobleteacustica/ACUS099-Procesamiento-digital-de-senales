{
 "cells": [
  {
   "cell_type": "code",
   "execution_count": 1,
   "metadata": {},
   "outputs": [
    {
     "data": {
      "text/html": [
       "<!-- Mejorar visualización en proyector -->\n",
       "<style>\n",
       ".rendered_html {font-size: 1.2em; line-height: 150%;}\n",
       "div.prompt {min-width: 0ex; }\n",
       ".container {width:95% !important;}\n",
       "</style>\n"
      ],
      "text/plain": [
       "<IPython.core.display.HTML object>"
      ]
     },
     "metadata": {},
     "output_type": "display_data"
    }
   ],
   "source": [
    "%%HTML\n",
    "<!-- Mejorar visualización en proyector -->\n",
    "<style>\n",
    ".rendered_html {font-size: 1.2em; line-height: 150%;}\n",
    "div.prompt {min-width: 0ex; }\n",
    ".container {width:95% !important;}\n",
    "</style>"
   ]
  },
  {
   "cell_type": "markdown",
   "metadata": {},
   "source": [
    "<h1 style=\"text-align:center\">Semana 12. Clase 17: Resolver ejercicios</h1>\n",
    "<h3 style=\"text-align:center\">ACUS099: Procesamiento digital de señales</h3>\n",
    "<p style=\"text-align:center\">Dr. Víctor Poblete <br>\n",
    "<a href=\"mailto:vpoblete@uach.cl\">vpoblete@uach.cl</a><br>\n",
    "<a href=\"https://github.com/vpobleteacustica/ACUS099-Procesamiento-digital-de-senales\">https://github.com/vpobleteacustica/ACUS099-Procesamiento-digital-de-senales</a><br> \n",
    "<p style=\"text-align:center\">Diego Espejo Alquinta - Ayudante <br>\n",
    "<a href=\"mailto:diego.espejo@alumnos.uach.cl\">diego.espejo@alumnos.uach.cl </a><br>\n",
    "<a href=\"http://www.acusticauach.cl\">www.acusticauach.cl</a><br> "
   ]
  },
  {
   "cell_type": "markdown",
   "metadata": {},
   "source": [
    "### 1) Determinar la respuesta de frecuencia de un sistema LTI, con respuesta impulso \n",
    "\n",
    "\\begin{align*}\n",
    "h[n] & = \\delta[n-n_{0}]\n",
    "\\end{align*}\n",
    "\n",
    "> + Y obtener la transformada de Fourier de la salida de este sistema. \n",
    "\n",
    "\n",
    "### 2) Calcular la transformada de Fourier de:\n",
    "\\begin{align*}\n",
    "x[n] - x[n-1] \\overset{\\mathscr{F}}{\\longleftrightarrow}?\n",
    "\\end{align*}\n",
    "\n",
    "### 3) Para la siguiente señal:  \n",
    "\\begin{align*}\n",
    "x[n]=a^{n}\\,u[n], \\quad {\\text{con}}\\, -1<a<0 \n",
    "\\end{align*}\n",
    "\n",
    "> + Determinar la transformada de Fourier o espectro de la señal.\n",
    "> + Graficar como una función de la frecuencia $\\omega$:\n",
    ">> + $\\operatorname{\\mathbb{R}e}\\{X(e^{j\\omega})\\}$\n",
    ">> + $\\operatorname{\\mathbb{I}m}\\{X(e^{j\\omega})\\}$\n",
    ">> + Espectro de magnitud: $\\left| X(e^{j\\omega}) \\right|$\n",
    ">> + Espectro de magnitud cuadrática: $\\left| X(e^{j\\omega}) \\right|^{2}$\n",
    ">> + Espectro de fase: $\\sphericalangle X(e^{j\\omega})$\n",
    "\n",
    "\n",
    "### 4) Use el resultado del ejercicio anterior para encontrar $x[n]$ cuya transformada de Fourier discreta es:\n",
    "\\begin{align*}\n",
    "X(e^{j\\omega}) & = \\frac{1}{1-0.5\\,e^{-j\\omega}}\n",
    "\\end{align*}\n",
    "\n",
    "### 5) Considere que \n",
    "> + $x[-1]=1,$ $x[0]=2,$ $x[1]=3,$ $x[2]=4,$ y $x[3]=5.$ \n",
    "> + Obtener la transformada de Fourier de $x[n]$. \n",
    "\n",
    "### 6) Sea un sistema LTI en el cual la entrada es:\n",
    "> + $x[n]=a^{n}u[n],$ con $0\\leq a < 1.$ \n",
    "> + Mientras que la respuesta impulso del sistema está dada por: $h[n]=b^{n}u[n],$ con $0\\leq b < 1.$ \n",
    "> + Determinar el espectro de la salida de este sistema.\n",
    "\n",
    "### 7) Obtener la transformada de Fourier de la señal:\n",
    "\\begin{align*}\n",
    "x[n] & = 2\\cdot\\bigg( -0.5\\,{\\text{j}} e^{{\\text{j}}\\,0.5\\pi n} + 0.5\\,{\\text{j}} e^{{\\text{-j}}\\,0.5\\pi n}  \\bigg)^{2}\n",
    "\\end{align*}\n",
    "\n",
    "### 8) Sea \n",
    "\\begin{align*}\n",
    "x[n] = 1.5 e^{j\\,0.2 \\pi}\\,e^{j\\,0.1 \\pi n} + 1.5 e^{-j\\,0.2 \\pi}\\,e^{-j\\,0.1 \\pi n} \n",
    "\\end{align*}\n",
    "> + Calcular la transformada de Fourier.\n",
    "\n",
    "\n",
    "### 9) En un sistema LTI de tiempo discreto, la ecuación en diferencias que relaciona la entrada con la respuesta es:\n",
    "\\begin{align*}\n",
    "\\sum_{k=0}^{N} a_{k}\\,y[n-k] & = \\sum_{k=0}^{M} b_{k}\\,x[n-k]\n",
    "\\end{align*}\n",
    "\n",
    "> + Tomando la transformada de Fourier a ambos lados, se obtiene:\n",
    "\\begin{align*}\n",
    "    \\mathscr{F}\\left\\{\\sum_{k=0}^{N} a_{k}\\,y[n-k]\\right\\} &= \\mathscr{F}\\left\\{\\sum_{k=0}^{M} b_{k}\\,x[n-k]\\right\\}\\\\\n",
    "    Y(e^{j\\omega})\\, \\sum_{k=0}^{N} a_{k}\\,e^{-j\\omega k} & = X(e^{j\\omega})\\, \\sum_{k=0}^{M} b_{k}\\,e^{-j\\omega k}\n",
    "\\end{align*}\n",
    "\n",
    "> + Así, la respuesta de frecuencia de este sistema será:\n",
    "\\begin{align*}\n",
    "    H(e^{j\\omega}) & = \\frac{Y(e^{j\\omega})}{X(e^{j\\omega})} =\n",
    "    \\frac{\\sum_{k=0}^{M} b_{k}\\,e^{-j\\omega k}}{\\sum_{k=0}^{N} a_{k}\\,e^{-j\\omega k}}\n",
    "\\end{align*}\n",
    "\n",
    "> + Para el siguiente sistema LTI, descrito por la ecuación en diferencias:\n",
    "\\begin{align*}\n",
    "    y[n] & = 0.1y[n-1] + x[n] + x[n-1]\n",
    "\\end{align*}\n",
    "> + Determinar la respuesta de frecuencia del sistema.\n",
    "\n",
    "### 10) Para el siguiente filtro FIR:\n",
    "\\begin{align*}\n",
    "    y[n] & = 5x[n-1] -4 x[n-3] + 3x[n-5]\n",
    "\\end{align*}\n",
    "\n",
    "> + Calcular su respuesta al impulso.\n",
    "> + Obtener la respuesta de frecuencia de este sistema particular.\n",
    "\n",
    "### 11) Un sistema LTI está descrito por la siguiente ecuación en diferencias, lineal y de coeficientes constantes:\n",
    "\\begin{align*}\n",
    "y[n] - \\frac{1}{2} y[n-1] &= x[n]\n",
    "\\end{align*}\n",
    "> + ¿Cuál es la respuesta de frecuencia que describe  $Y(e^{j\\omega})$ en términos de $X(e^{j\\omega})$?\n",
    "> + Usando la transformada de Fourier, evalue $y[n]$ si $x[n]$ es:\n",
    ">> + $\\delta[n]$\n",
    ">> + $\\delta[n-n_{0}]$\n",
    ">> + $(\\frac{3}{4})^{n}\\,u[n]$"
   ]
  },
  {
   "cell_type": "code",
   "execution_count": null,
   "metadata": {},
   "outputs": [],
   "source": []
  }
 ],
 "metadata": {
  "kernelspec": {
   "display_name": "acus099-env",
   "language": "python",
   "name": "acus099-env"
  },
  "language_info": {
   "codemirror_mode": {
    "name": "ipython",
    "version": 3
   },
   "file_extension": ".py",
   "mimetype": "text/x-python",
   "name": "python",
   "nbconvert_exporter": "python",
   "pygments_lexer": "ipython3",
   "version": "3.8.3"
  }
 },
 "nbformat": 4,
 "nbformat_minor": 4
}
