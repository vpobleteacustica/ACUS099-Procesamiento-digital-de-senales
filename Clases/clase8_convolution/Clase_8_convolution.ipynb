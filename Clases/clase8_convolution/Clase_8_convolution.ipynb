{
 "cells": [
  {
   "cell_type": "code",
   "execution_count": 1,
   "metadata": {},
   "outputs": [
    {
     "data": {
      "text/html": [
       "<!-- Mejorar visualización en proyector -->\n",
       "<style>\n",
       ".rendered_html {font-size: 1.2em; line-height: 150%;}\n",
       "div.prompt {min-width: 0ex; }\n",
       ".container {width:95% !important;}\n",
       "</style>\n"
      ],
      "text/plain": [
       "<IPython.core.display.HTML object>"
      ]
     },
     "metadata": {},
     "output_type": "display_data"
    }
   ],
   "source": [
    "%%HTML\n",
    "<!-- Mejorar visualización en proyector -->\n",
    "<style>\n",
    ".rendered_html {font-size: 1.2em; line-height: 150%;}\n",
    "div.prompt {min-width: 0ex; }\n",
    ".container {width:95% !important;}\n",
    "</style>"
   ]
  },
  {
   "cell_type": "markdown",
   "metadata": {},
   "source": [
    "<h1 style=\"text-align:center\">Clase 8: Sistemas y suma de convolución</h1>\n",
    "<h3 style=\"text-align:center\">ACUS099: Procesamiento digital de señales</h3>\n",
    "<p style=\"text-align:center\">Dr. Víctor Poblete <br>\n",
    "<a href=\"mailto:vpoblete@uach.cl\">vpoblete@uach.cl</a><br>\n",
    "<a href=\"https://github.com/vpobleteacustica/ACUS099-Procesamiento-digital-de-senales\">https://github.com/vpobleteacustica/ACUS099-Procesamiento-digital-de-senales</a><br> \n",
    "<p style=\"text-align:center\">Diego Espejo Alquinta - Ayudante <br>\n",
    "<a href=\"mailto:diego.espejo@alumnos.uach.cl\">diego.espejo@alumnos.uach.cl </a><br>\n",
    "<a href=\"http://www.acusticauach.cl\">www.acusticauach.cl</a><br> "
   ]
  },
  {
   "cell_type": "markdown",
   "metadata": {},
   "source": [
    "### Sistemas en tiempo discreto\n",
    "> + **Definición**.\n",
    ">> + Un sistema en tiempo discreto está definido matemáticamente como una transformación que mapea una señal discreta de entrada con valores $x[n]$ en una secuencia de salida con valores $y[n]$. Esto es,\n",
    "$$\n",
    "\\begin{align*}\n",
    "y[n] &= T\\big\\{x[n]\\big\\}\n",
    "\\end{align*}\n",
    "$$\n",
    ">> + O equivalentemente,\n",
    "$$\n",
    "\\begin{align*}\n",
    "x[n] \\xrightarrow[]{T}y[n]\n",
    "\\end{align*}\n",
    "$$\n",
    "\n",
    "\n",
    "\n",
    "<!--- Inline HTML works too --->\n",
    "<p style=\"text-align:center\">\n",
    "    <a title=\"sistema\"><img src=\"LTI.png\" width=\"480\" height=\"480\" alt=\"Tiny\"></a>\n",
    "    <strong>Figure 1. Representación de un sistema en tiempo discreto.</strong>\n",
    "    \n",
    "> + Ejemplo:\n",
    "    + 1) Un sistema llamado sistema de retardo (__shifteo__):\n",
    "$$\n",
    "\\begin{align*}\n",
    "y[n] &= x[n-n_{d}],\\quad -\\infty<n<\\infty\n",
    "\\end{align*}\n",
    "$$\n",
    "\n",
    "    \n"
   ]
  },
  {
   "cell_type": "markdown",
   "metadata": {},
   "source": [
    "### Propiedades de los sistemas:\n",
    "\n",
    "> + **Sistema invariante en el tiempo**.\n",
    ">> + La propiedad de invariancia en el tiempo quiere decir que las características de entrada y salida NO cambian con el tiempo:\n",
    "\n",
    ">> + Un sistema es invariante en el tiempo si y sólo si:\n",
    "\n",
    "$$\n",
    "\\begin{align*}\n",
    "x[n] \\xrightarrow[]{T}y[n] \\implies x[n-n_{0}] \\xrightarrow[]{T}y[n-n_{0}], \\,\\,\\,\\, \\forall \\,{\\text{entrada}} \\,\\,\\, x[n] \\,\\,\\, {\\text{y}} \\,\\,\\, \\forall \\,\\,\\, {\\text{desplazamiento de tiempo}}\\,\\, n_{0}.\n",
    "\\end{align*}\n",
    "$$\n",
    "\n",
    "<p style=\"text-align:center\">\n",
    "    <a title=\"sistema\"><img src=\"invariante.png\" width=\"480\" height=\"480\" alt=\"Tiny\"></a>\n",
    "    <strong>Figure 2. Sistema invariante en el tiempo.</strong>"
   ]
  },
  {
   "cell_type": "markdown",
   "metadata": {},
   "source": [
    "### Propiedades de los sistemas:\n",
    "\n",
    "> + **Sistema lineal**.\n",
    ">> + La propiedad de sistema lineal quiere decir que obedece al principio de superposición:\n",
    "\n",
    ">> + Un sistema es lineal si y sólo si:\n",
    "\n",
    "$$\n",
    "\\begin{align*}\n",
    "T[a_1\\cdot x_1[n] + a_2\\cdot x_2[n]] = a_1\\cdot T[x_1[n]] + a_2\\cdot T[x_2[n]] \\,\\,\\,\\, {\\text{para cualquier secuencia de entrada arbitraria}} \\,\\,\\, x_1[n], {\\text{y}}\\, x_2[n] \\,\\,\\, {\\text{y}} \\,\\,\\, {\\text{para cualquier constante arbitraria}} \\,\\,\\, c_1, \\,{\\text{y}}\\, c_2.\n",
    "\\end{align*}\n",
    "$$\n",
    "\n",
    "<p style=\"text-align:center\">\n",
    "    <a title=\"sistema\"><img src=\"lineal.png\" width=\"480\" height=\"480\" alt=\"Tiny\"></a>\n",
    "    <strong>Figure 3. Sistema lineal.</strong>"
   ]
  },
  {
   "cell_type": "markdown",
   "metadata": {},
   "source": [
    "### Propiedades de los sistemas:\n",
    "\n",
    "> + **Sistema causal**.\n",
    ">> + La propiedad de sistema causal quiere decir que la salida del sistema en cualquier tiempo $n$ solamente depende del instante presente y de entradas pasadas:\n",
    "\n",
    ">> + Un sistema es causal si y sólo si:\n",
    "$$\n",
    "\\begin{align*}\n",
    "y[n] &= F[x[n], x[n-1], x[n-2],\\ldots] \\,\\,\\,\\, \\forall \\, n.\n",
    "\\end{align*}\n",
    "$$"
   ]
  },
  {
   "cell_type": "markdown",
   "metadata": {},
   "source": [
    "### La suma de convolución:\n",
    "\n",
    ">> + Sea $h[n]$ la respuesta de un sistema lineal e invariante en el tiempo (LTI, linear time invariant) con transformación $T$, a una secuencia de entrada $h[n]$ :\n",
    "\n",
    "<p style=\"text-align:center\">\n",
    "    <a title=\"sistema\"><img src=\"respuesta_impulso.png\" width=\"380\" height=\"380\" alt=\"Tiny\"></a>\n",
    "    <strong>Figure 4. Respuesta al impulso de un sistema LTI.</strong>\n",
    "\n",
    "\n",
    "$$\n",
    "\\begin{align*}\n",
    "\\delta[n] \\xrightarrow[]{T}h[n]\n",
    "\\end{align*}\n",
    "$$\n",
    "    \n",
    "$$\n",
    "\\begin{align*}\n",
    "\\hspace{0.15cm} \\delta[n - k] \\xrightarrow[]{T}h[n - k]\n",
    "\\end{align*}\n",
    "$$ \n",
    "    \n",
    "$$\n",
    "\\begin{align*}\n",
    "\\hspace{0.15cm} \\alpha \\delta[n - k] \\xrightarrow[]{T} \\alpha h[n - k]\n",
    "\\end{align*}\n",
    "$$\n",
    "    \n",
    "$$\n",
    "\\begin{align*}\n",
    "\\hspace{0.15cm} x[k] \\delta[n - k] \\xrightarrow[]{T} x[k] h[n - k]\n",
    "\\end{align*}\n",
    "$$     \n",
    "    \n",
    "$$\n",
    "\\begin{align*}\n",
    "\\hspace{0.15cm} \\sum_{k=-\\infty}^{\\infty} x[k] \\delta[n - k] \\xrightarrow[]{T} \\sum_{k=-\\infty}^{\\infty} x[k] h[n - k]\n",
    "\\end{align*}\n",
    "$$\n",
    "    \n",
    "$$\n",
    "\\begin{align*}\n",
    "\\hspace{0.15cm} x[n] \\xrightarrow[]{T} y[n]\n",
    "\\end{align*}\n",
    "$$ \n",
    "    \n",
    ">> + Por lo tanto, \n",
    "$$\n",
    "\\begin{align*}\n",
    "\\hspace{0.15cm} y[n] =   \\sum_{k=-\\infty}^{\\infty} x[k] h[n - k] = x[n]*h[n], \\quad {\\text{para cualquier sistema LTI.}}\n",
    "\\end{align*}\n",
    "$$     \n",
    "    "
   ]
  },
  {
   "cell_type": "markdown",
   "metadata": {},
   "source": [
    "#### Ejercicios:\n",
    ">> + Una señal $x[n]$ está en realidad compuesta de una superposición de muchos impulsos de Dirac, puesto en cada entero, con amplitudes $x[n]$. Mostremos esto en Python."
   ]
  },
  {
   "cell_type": "code",
   "execution_count": 17,
   "metadata": {},
   "outputs": [],
   "source": [
    "import numpy as np\n",
    "import matplotlib.pyplot as plt"
   ]
  },
  {
   "cell_type": "code",
   "execution_count": 13,
   "metadata": {},
   "outputs": [
    {
     "name": "stdout",
     "output_type": "stream",
     "text": [
      "x =  [0. 1. 2. 3. 0. 0. 1. 2. 3. 0.]\n"
     ]
    }
   ],
   "source": [
    "L = 10\n",
    "z = np.zeros(L)\n",
    "x = np.zeros(L)\n",
    "x[5:9] = range(4) # Create a sequence of numbers from 0 to 4,\n",
    "x[0:4] = range(4)\n",
    "print(\"x = \", x)"
   ]
  },
  {
   "cell_type": "code",
   "execution_count": 16,
   "metadata": {},
   "outputs": [
    {
     "name": "stdout",
     "output_type": "stream",
     "text": [
      "[[0. 0. 0. 0. 0. 0. 0. 0. 0. 0.]\n",
      " [0. 0. 0. 0. 0. 0. 0. 0. 0. 0.]\n",
      " [0. 0. 0. 0. 0. 0. 0. 0. 0. 0.]\n",
      " [0. 0. 0. 0. 0. 0. 0. 0. 0. 0.]\n",
      " [0. 0. 0. 0. 0. 0. 0. 0. 0. 0.]\n",
      " [0. 0. 0. 0. 0. 0. 0. 0. 0. 0.]\n",
      " [0. 0. 0. 0. 0. 0. 0. 0. 0. 0.]\n",
      " [0. 0. 0. 0. 0. 0. 0. 0. 0. 0.]\n",
      " [0. 0. 0. 0. 0. 0. 0. 0. 0. 0.]\n",
      " [0. 0. 0. 0. 0. 0. 0. 0. 0. 0.]]\n",
      "[[0. 0. 0. 0. 0. 0. 0. 0. 0. 0.]\n",
      " [0. 1. 0. 0. 0. 0. 0. 0. 0. 0.]\n",
      " [0. 0. 0. 0. 0. 0. 0. 0. 0. 0.]\n",
      " [0. 0. 0. 0. 0. 0. 0. 0. 0. 0.]\n",
      " [0. 0. 0. 0. 0. 0. 0. 0. 0. 0.]\n",
      " [0. 0. 0. 0. 0. 0. 0. 0. 0. 0.]\n",
      " [0. 0. 0. 0. 0. 0. 0. 0. 0. 0.]\n",
      " [0. 0. 0. 0. 0. 0. 0. 0. 0. 0.]\n",
      " [0. 0. 0. 0. 0. 0. 0. 0. 0. 0.]\n",
      " [0. 0. 0. 0. 0. 0. 0. 0. 0. 0.]]\n",
      "[[0. 0. 0. 0. 0. 0. 0. 0. 0. 0.]\n",
      " [0. 1. 0. 0. 0. 0. 0. 0. 0. 0.]\n",
      " [0. 0. 2. 0. 0. 0. 0. 0. 0. 0.]\n",
      " [0. 0. 0. 0. 0. 0. 0. 0. 0. 0.]\n",
      " [0. 0. 0. 0. 0. 0. 0. 0. 0. 0.]\n",
      " [0. 0. 0. 0. 0. 0. 0. 0. 0. 0.]\n",
      " [0. 0. 0. 0. 0. 0. 0. 0. 0. 0.]\n",
      " [0. 0. 0. 0. 0. 0. 0. 0. 0. 0.]\n",
      " [0. 0. 0. 0. 0. 0. 0. 0. 0. 0.]\n",
      " [0. 0. 0. 0. 0. 0. 0. 0. 0. 0.]]\n",
      "[[0. 0. 0. 0. 0. 0. 0. 0. 0. 0.]\n",
      " [0. 1. 0. 0. 0. 0. 0. 0. 0. 0.]\n",
      " [0. 0. 2. 0. 0. 0. 0. 0. 0. 0.]\n",
      " [0. 0. 0. 3. 0. 0. 0. 0. 0. 0.]\n",
      " [0. 0. 0. 0. 0. 0. 0. 0. 0. 0.]\n",
      " [0. 0. 0. 0. 0. 0. 0. 0. 0. 0.]\n",
      " [0. 0. 0. 0. 0. 0. 0. 0. 0. 0.]\n",
      " [0. 0. 0. 0. 0. 0. 0. 0. 0. 0.]\n",
      " [0. 0. 0. 0. 0. 0. 0. 0. 0. 0.]\n",
      " [0. 0. 0. 0. 0. 0. 0. 0. 0. 0.]]\n",
      "[[0. 0. 0. 0. 0. 0. 0. 0. 0. 0.]\n",
      " [0. 1. 0. 0. 0. 0. 0. 0. 0. 0.]\n",
      " [0. 0. 2. 0. 0. 0. 0. 0. 0. 0.]\n",
      " [0. 0. 0. 3. 0. 0. 0. 0. 0. 0.]\n",
      " [0. 0. 0. 0. 0. 0. 0. 0. 0. 0.]\n",
      " [0. 0. 0. 0. 0. 0. 0. 0. 0. 0.]\n",
      " [0. 0. 0. 0. 0. 0. 0. 0. 0. 0.]\n",
      " [0. 0. 0. 0. 0. 0. 0. 0. 0. 0.]\n",
      " [0. 0. 0. 0. 0. 0. 0. 0. 0. 0.]\n",
      " [0. 0. 0. 0. 0. 0. 0. 0. 0. 0.]]\n",
      "[[0. 0. 0. 0. 0. 0. 0. 0. 0. 0.]\n",
      " [0. 1. 0. 0. 0. 0. 0. 0. 0. 0.]\n",
      " [0. 0. 2. 0. 0. 0. 0. 0. 0. 0.]\n",
      " [0. 0. 0. 3. 0. 0. 0. 0. 0. 0.]\n",
      " [0. 0. 0. 0. 0. 0. 0. 0. 0. 0.]\n",
      " [0. 0. 0. 0. 0. 0. 0. 0. 0. 0.]\n",
      " [0. 0. 0. 0. 0. 0. 0. 0. 0. 0.]\n",
      " [0. 0. 0. 0. 0. 0. 0. 0. 0. 0.]\n",
      " [0. 0. 0. 0. 0. 0. 0. 0. 0. 0.]\n",
      " [0. 0. 0. 0. 0. 0. 0. 0. 0. 0.]]\n",
      "[[0. 0. 0. 0. 0. 0. 0. 0. 0. 0.]\n",
      " [0. 1. 0. 0. 0. 0. 0. 0. 0. 0.]\n",
      " [0. 0. 2. 0. 0. 0. 0. 0. 0. 0.]\n",
      " [0. 0. 0. 3. 0. 0. 0. 0. 0. 0.]\n",
      " [0. 0. 0. 0. 0. 0. 0. 0. 0. 0.]\n",
      " [0. 0. 0. 0. 0. 0. 0. 0. 0. 0.]\n",
      " [0. 0. 0. 0. 0. 0. 1. 0. 0. 0.]\n",
      " [0. 0. 0. 0. 0. 0. 0. 0. 0. 0.]\n",
      " [0. 0. 0. 0. 0. 0. 0. 0. 0. 0.]\n",
      " [0. 0. 0. 0. 0. 0. 0. 0. 0. 0.]]\n",
      "[[0. 0. 0. 0. 0. 0. 0. 0. 0. 0.]\n",
      " [0. 1. 0. 0. 0. 0. 0. 0. 0. 0.]\n",
      " [0. 0. 2. 0. 0. 0. 0. 0. 0. 0.]\n",
      " [0. 0. 0. 3. 0. 0. 0. 0. 0. 0.]\n",
      " [0. 0. 0. 0. 0. 0. 0. 0. 0. 0.]\n",
      " [0. 0. 0. 0. 0. 0. 0. 0. 0. 0.]\n",
      " [0. 0. 0. 0. 0. 0. 1. 0. 0. 0.]\n",
      " [0. 0. 0. 0. 0. 0. 0. 2. 0. 0.]\n",
      " [0. 0. 0. 0. 0. 0. 0. 0. 0. 0.]\n",
      " [0. 0. 0. 0. 0. 0. 0. 0. 0. 0.]]\n",
      "[[0. 0. 0. 0. 0. 0. 0. 0. 0. 0.]\n",
      " [0. 1. 0. 0. 0. 0. 0. 0. 0. 0.]\n",
      " [0. 0. 2. 0. 0. 0. 0. 0. 0. 0.]\n",
      " [0. 0. 0. 3. 0. 0. 0. 0. 0. 0.]\n",
      " [0. 0. 0. 0. 0. 0. 0. 0. 0. 0.]\n",
      " [0. 0. 0. 0. 0. 0. 0. 0. 0. 0.]\n",
      " [0. 0. 0. 0. 0. 0. 1. 0. 0. 0.]\n",
      " [0. 0. 0. 0. 0. 0. 0. 2. 0. 0.]\n",
      " [0. 0. 0. 0. 0. 0. 0. 0. 3. 0.]\n",
      " [0. 0. 0. 0. 0. 0. 0. 0. 0. 0.]]\n",
      "[[0. 0. 0. 0. 0. 0. 0. 0. 0. 0.]\n",
      " [0. 1. 0. 0. 0. 0. 0. 0. 0. 0.]\n",
      " [0. 0. 2. 0. 0. 0. 0. 0. 0. 0.]\n",
      " [0. 0. 0. 3. 0. 0. 0. 0. 0. 0.]\n",
      " [0. 0. 0. 0. 0. 0. 0. 0. 0. 0.]\n",
      " [0. 0. 0. 0. 0. 0. 0. 0. 0. 0.]\n",
      " [0. 0. 0. 0. 0. 0. 1. 0. 0. 0.]\n",
      " [0. 0. 0. 0. 0. 0. 0. 2. 0. 0.]\n",
      " [0. 0. 0. 0. 0. 0. 0. 0. 3. 0.]\n",
      " [0. 0. 0. 0. 0. 0. 0. 0. 0. 0.]]\n"
     ]
    }
   ],
   "source": [
    "s = np.zeros((L,L))\n",
    "for k in range(L):\n",
    "    s[k][k] = x[k]\n",
    "    print(s)"
   ]
  },
  {
   "cell_type": "code",
   "execution_count": 31,
   "metadata": {},
   "outputs": [
    {
     "name": "stderr",
     "output_type": "stream",
     "text": [
      "<ipython-input-31-910e0ce5572f>:3: UserWarning: In Matplotlib 3.3 individual lines on a stem plot will be added as a LineCollection instead of individual lines. This significantly improves the performance of a stem plot. To remove this warning and switch to the new behaviour, set the \"use_line_collection\" keyword argument to True.\n",
      "  ax[k].stem(s[k][:])\n",
      "<ipython-input-31-910e0ce5572f>:3: UserWarning: In Matplotlib 3.3 individual lines on a stem plot will be added as a LineCollection instead of individual lines. This significantly improves the performance of a stem plot. To remove this warning and switch to the new behaviour, set the \"use_line_collection\" keyword argument to True.\n",
      "  ax[k].stem(s[k][:])\n",
      "<ipython-input-31-910e0ce5572f>:3: UserWarning: In Matplotlib 3.3 individual lines on a stem plot will be added as a LineCollection instead of individual lines. This significantly improves the performance of a stem plot. To remove this warning and switch to the new behaviour, set the \"use_line_collection\" keyword argument to True.\n",
      "  ax[k].stem(s[k][:])\n",
      "<ipython-input-31-910e0ce5572f>:3: UserWarning: In Matplotlib 3.3 individual lines on a stem plot will be added as a LineCollection instead of individual lines. This significantly improves the performance of a stem plot. To remove this warning and switch to the new behaviour, set the \"use_line_collection\" keyword argument to True.\n",
      "  ax[k].stem(s[k][:])\n",
      "<ipython-input-31-910e0ce5572f>:3: UserWarning: In Matplotlib 3.3 individual lines on a stem plot will be added as a LineCollection instead of individual lines. This significantly improves the performance of a stem plot. To remove this warning and switch to the new behaviour, set the \"use_line_collection\" keyword argument to True.\n",
      "  ax[k].stem(s[k][:])\n",
      "<ipython-input-31-910e0ce5572f>:3: UserWarning: In Matplotlib 3.3 individual lines on a stem plot will be added as a LineCollection instead of individual lines. This significantly improves the performance of a stem plot. To remove this warning and switch to the new behaviour, set the \"use_line_collection\" keyword argument to True.\n",
      "  ax[k].stem(s[k][:])\n",
      "<ipython-input-31-910e0ce5572f>:3: UserWarning: In Matplotlib 3.3 individual lines on a stem plot will be added as a LineCollection instead of individual lines. This significantly improves the performance of a stem plot. To remove this warning and switch to the new behaviour, set the \"use_line_collection\" keyword argument to True.\n",
      "  ax[k].stem(s[k][:])\n",
      "<ipython-input-31-910e0ce5572f>:3: UserWarning: In Matplotlib 3.3 individual lines on a stem plot will be added as a LineCollection instead of individual lines. This significantly improves the performance of a stem plot. To remove this warning and switch to the new behaviour, set the \"use_line_collection\" keyword argument to True.\n",
      "  ax[k].stem(s[k][:])\n",
      "<ipython-input-31-910e0ce5572f>:3: UserWarning: In Matplotlib 3.3 individual lines on a stem plot will be added as a LineCollection instead of individual lines. This significantly improves the performance of a stem plot. To remove this warning and switch to the new behaviour, set the \"use_line_collection\" keyword argument to True.\n",
      "  ax[k].stem(s[k][:])\n",
      "<ipython-input-31-910e0ce5572f>:3: UserWarning: In Matplotlib 3.3 individual lines on a stem plot will be added as a LineCollection instead of individual lines. This significantly improves the performance of a stem plot. To remove this warning and switch to the new behaviour, set the \"use_line_collection\" keyword argument to True.\n",
      "  ax[k].stem(s[k][:])\n",
      "<ipython-input-31-910e0ce5572f>:11: UserWarning: In Matplotlib 3.3 individual lines on a stem plot will be added as a LineCollection instead of individual lines. This significantly improves the performance of a stem plot. To remove this warning and switch to the new behaviour, set the \"use_line_collection\" keyword argument to True.\n",
      "  ax[L+1].stem(x, linefmt = 'r')\n"
     ]
    },
    {
     "data": {
      "text/plain": [
       "Text(0.5, 0.98, 'Una señal como una superposición de impulsos de Dirac')"
      ]
     },
     "execution_count": 31,
     "metadata": {},
     "output_type": "execute_result"
    },
    {
     "data": {
      "image/png": "[encoded data removed]",
      "text/plain": [
       "<Figure size 720x720 with 12 Axes>"
      ]
     },
     "metadata": {
      "needs_background": "light"
     },
     "output_type": "display_data"
    }
   ],
   "source": [
    "f , ax = plt.subplots(L+2, figsize=(10,10))\n",
    "for k in range(L):\n",
    "    ax[k].stem(s[k][:])\n",
    "    ax[k].set_ylim([0,3])\n",
    "    ax[k].get_yaxis().set_ticks([])\n",
    "    if k != L-1: ax[k].get_xaxis().set_ticks([])\n",
    "\n",
    "ax[L].axis('off')\n",
    "\n",
    "ax[L+1].get_yaxis().set_ticks([])\n",
    "ax[L+1].stem(x, linefmt = 'r')\n",
    "ax[L+1].set_title('Suma de todas las señales elementales')\n",
    "#f.tight_layout()\n",
    "f.suptitle('Una señal como una superposición de impulsos de Dirac')"
   ]
  },
  {
   "cell_type": "code",
   "execution_count": 15,
   "metadata": {},
   "outputs": [
    {
     "name": "stdout",
     "output_type": "stream",
     "text": [
      "[[0. 0. 0. 0. 0. 0. 0. 0. 0. 0.]\n",
      " [0. 0. 0. 0. 0. 0. 0. 0. 0. 0.]\n",
      " [0. 0. 0. 0. 0. 0. 0. 0. 0. 0.]\n",
      " [0. 0. 0. 0. 0. 0. 0. 0. 0. 0.]\n",
      " [0. 0. 0. 0. 0. 0. 0. 0. 0. 0.]\n",
      " [0. 0. 0. 0. 0. 0. 0. 0. 0. 0.]\n",
      " [0. 0. 0. 0. 0. 0. 0. 0. 0. 0.]\n",
      " [0. 0. 0. 0. 0. 0. 0. 0. 0. 0.]\n",
      " [0. 0. 0. 0. 0. 0. 0. 0. 0. 0.]\n",
      " [0. 0. 0. 0. 0. 0. 0. 0. 0. 0.]]\n"
     ]
    }
   ],
   "source": [
    "print(s)"
   ]
  },
  {
   "cell_type": "markdown",
   "metadata": {},
   "source": [
    "#### Ejercicios: Ilustrar la suma de convolución"
   ]
  },
  {
   "cell_type": "code",
   "execution_count": 32,
   "metadata": {},
   "outputs": [
    {
     "name": "stdout",
     "output_type": "stream",
     "text": [
      "[1 3 6 9 7 4]\n"
     ]
    }
   ],
   "source": [
    "x1 = [1, 2, 3, 4]\n",
    "x2 = [1, 1, 1]\n",
    "y = np.convolve(x1, x2)\n",
    "print(y)"
   ]
  },
  {
   "cell_type": "code",
   "execution_count": 33,
   "metadata": {},
   "outputs": [
    {
     "name": "stderr",
     "output_type": "stream",
     "text": [
      "<ipython-input-33-3ec15bd81692>:1: UserWarning: In Matplotlib 3.3 individual lines on a stem plot will be added as a LineCollection instead of individual lines. This significantly improves the performance of a stem plot. To remove this warning and switch to the new behaviour, set the \"use_line_collection\" keyword argument to True.\n",
      "  plt.stem(y)\n"
     ]
    },
    {
     "data": {
      "text/plain": [
       "<StemContainer object of 3 artists>"
      ]
     },
     "execution_count": 33,
     "metadata": {},
     "output_type": "execute_result"
    },
    {
     "data": {
      "image/png": "[encoded data removed]",
      "text/plain": [
       "<Figure size 432x288 with 1 Axes>"
      ]
     },
     "metadata": {
      "needs_background": "light"
     },
     "output_type": "display_data"
    }
   ],
   "source": [
    "plt.stem(y)"
   ]
  },
  {
   "cell_type": "markdown",
   "metadata": {},
   "source": [
    "#### Procedimiento gráfico en 4 pasos:\n",
    ">> 1. Tomar una de las secuencias (por ejemplo, $h$) y escribirla como: $h[k] \\xrightarrow[]{}h[-k]$ \n",
    ">> 2. Desplazarla progresivamente en $n$: $h[n - k]$\n",
    ">> 3. Multiplicar: x[k] por $h[n - k]$\n",
    ">> 4. Sumar sobre $n$"
   ]
  },
  {
   "cell_type": "markdown",
   "metadata": {},
   "source": [
    "#### Ejemplo.\n",
    ">> + Sean $x[n]= [1, 2, 3, 4]$ y $h[n]=[1, 1, 1]$. Realizar el procedimiento gráfico para entender la suma de convolución."
   ]
  },
  {
   "cell_type": "code",
   "execution_count": null,
   "metadata": {},
   "outputs": [],
   "source": [
    " "
   ]
  }
 ],
 "metadata": {
  "kernelspec": {
   "display_name": "acus099-env",
   "language": "python",
   "name": "acus099-env"
  }
 },
 "nbformat": 4,
 "nbformat_minor": 4
}
