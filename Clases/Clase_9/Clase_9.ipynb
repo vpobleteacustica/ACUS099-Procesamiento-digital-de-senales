{
 "cells": [
  {
   "cell_type": "code",
   "execution_count": 1,
   "metadata": {},
   "outputs": [
    {
     "data": {
      "text/html": [
       "<!-- Mejorar visualización en proyector -->\n",
       "<style>\n",
       ".rendered_html {font-size: 1.2em; line-height: 150%;}\n",
       "div.prompt {min-width: 0ex; }\n",
       ".container {width:95% !important;}\n",
       "</style>\n"
      ],
      "text/plain": [
       "<IPython.core.display.HTML object>"
      ]
     },
     "metadata": {},
     "output_type": "display_data"
    }
   ],
   "source": [
    "%%HTML\n",
    "<!-- Mejorar visualización en proyector -->\n",
    "<style>\n",
    ".rendered_html {font-size: 1.2em; line-height: 150%;}\n",
    "div.prompt {min-width: 0ex; }\n",
    ".container {width:95% !important;}\n",
    "</style>"
   ]
  },
  {
   "cell_type": "markdown",
   "metadata": {},
   "source": [
    "<h1 style=\"text-align:center\">Semana 6. Clase 9: Sistemas y suma de convolución</h1>\n",
    "<h3 style=\"text-align:center\">ACUS099: Procesamiento digital de señales</h3>\n",
    "<p style=\"text-align:center\">Dr. Víctor Poblete <br>\n",
    "<a href=\"mailto:vpoblete@uach.cl\">vpoblete@uach.cl</a><br>\n",
    "<a href=\"https://github.com/vpobleteacustica/ACUS099-Procesamiento-digital-de-senales\">https://github.com/vpobleteacustica/ACUS099-Procesamiento-digital-de-senales</a><br> \n",
    "<p style=\"text-align:center\">Diego Espejo Alquinta - Ayudante <br>\n",
    "<a href=\"mailto:diego.espejo@alumnos.uach.cl\">diego.espejo@alumnos.uach.cl </a><br>\n",
    "<a href=\"http://www.acusticauach.cl\">www.acusticauach.cl</a><br> "
   ]
  },
  {
   "cell_type": "markdown",
   "metadata": {},
   "source": [
    "### Ejercicio: Evaluación analítica de la suma de convolución.\n",
    "> + Consideremos un sistema con respuesta impulso:\n",
    "$$\n",
    "\\begin{align*}\n",
    "h[n] &= u[n]-u[n-N] \\\\\n",
    "& =\\begin{cases}\n",
    "1 & \\text{para } 0\\leq n \\leq N-1 \\\\\n",
    "0 & \\text{otro caso}\n",
    "\\end{cases} \n",
    "\\end{align*}\n",
    "$$\n",
    "> donde $u[n]$ es un escalón unitario centrado en cero.\n",
    "> + La entrada es $x[n]=a^{n}u[n]$.\n",
    "> + Encontrar la respuesta en un índice $n$ particular.\n",
    "> + Sugerencias: \n",
    ">> + Formar las sumas sobre todos los $k$ de los productos $x[k] \\cdot h[n-k]$. Dibujar usando Python: $x[n]$ y $h[n-k]$ para: 1) un $n$ entero negativo; 2) $0\\leq n$ y $n-(N+1)\\leq 0$, y 3) $0<n-N+1$, ó, $N-1<n$\n",
    "> + Usar la formula general:\n",
    "$$\n",
    "\\begin{align*}\n",
    "\\sum_{k=N_{1}}^{N_{2}}\\alpha^{k} &= \\frac{\\alpha^{N_{1}}- \\alpha^{N_{2}+1}}{1-\\alpha},\\quad N_{2}\\geq N_{1}\n",
    "\\end{align*}\n",
    "$$\n"
   ]
  },
  {
   "cell_type": "markdown",
   "metadata": {},
   "source": [
    "### 1. Solución: \n",
    "> + Vamos a identificar lo que tenemos:\n",
    "> + Un sistema LTI:\n",
    "<!--- Inline HTML works too --->\n",
    "<p style=\"text-align:center\">\n",
    "    <a title=\"sistema\"><img src=\"SISTEMALTI.png\" width=\"380\" height=\"380\" alt=\"Tiny\"></a>\n",
    "    <strong>Figure 1. Sistema LTI en tiempo discreto.</strong>\n",
    "\n",
    "> + La respuesta impulso del sistema dada por: $h[n]= u[n]-u[n-N]$.\n",
    "    \n",
    "> + La entrada al sistema:\n",
    "$$\n",
    "\\begin{align*}\n",
    "x[n] &= \\alpha^{n}u[n]\\\\\n",
    "& =\\begin{cases}\n",
    "\\alpha^{n} & \\text{para } 0\\leq n\\\\\n",
    "0 & \\text{otro caso}\n",
    "\\end{cases} \n",
    "\\end{align*}\n",
    "$$ \n",
    "> + Nos piden encontrar la salida:\n",
    "$$\n",
    "\\begin{align*}\n",
    "y[n] &= x[n]*h[n] \\\\\n",
    "     & = \\sum_{k=-\\infty}^{\\infty}x[k]h[n-k]\n",
    "\\end{align*}\n",
    "$$    \n",
    "> + Lo que nos está diciendo esta ecuación es que para obtener una muestra de la salida para todos los posibles valores de n, debemos **sumar** ($-\\infty < k < \\infty$), los **productos** de las dos secuencias involucradas, $x[k]$ y $h[n-k].$ Esto significa que si graficamos ambas secuencias, para que obtengamos un producto distinto de cero, ambas secuencias deberán estar **traslapadas** en el tiempo. \n",
    "<!--- Inline HTML works too --->\n",
    "<p style=\"text-align:center\">\n",
    "    <a title=\"sistema\"><img src=\"LibroOppenheimSchafer.png\" width=\"380\" height=\"380\" alt=\"Tiny\"></a>\n",
    "    <strong>Figure 2. Traslape de las dos secuencias en el tiempo.</strong>    \n",
    "    \n",
    "> + La **clave** para obtener la salida está en comprender cómo se grafica la secuencia $h[n-k]$, para $-\\infty < k < \\infty$.\n",
    "> + Para comprender ésto, vamos a basarnos en un método llamado **Método Gráfico**.\n",
    "> + Éste involucra los siguientes pasos:\n",
    ">> + 1. Plotear las secuencias $x[k]$ y $h[k]$ como funciones de una variable independiente $k$, de tiempo.\n",
    ">> + 2. Escoger una de las secuencias, en este caso vamos a usar $h[k]$, e **invertirla en el tiempo**, esto es, $h_{1}[k]=h[-k],$ **en torno a $k=0.$** Por ejemplo, en nuestro caso, si suponemos que $N=5,$ tendremos la siguiente figura:\n",
    "<!--- Inline HTML works too --->\n",
    "<p style=\"text-align:center\">\n",
    "    <a title=\"sistema\"><img src=\"Invertida2.png\" width=\"480\" height=\"480\" alt=\"Tiny\"></a>\n",
    "    <strong>Figure 3. Tiempo invertido para $h[-k]$ en torno a $k=0$.</strong>\n",
    "    \n",
    ">> + 3. Crear una versión _shifteada_ en $n$ muestras de la secuencia de tiempo invertido: $h_{2}[k]=h_{1}[k-n]= h[-(k-n)]= h[n-k]$. Notar que si $n>0$ el _shifteo_ será hacia la derecha, mientras que si $n<0$, el _shifteo_ será hacia la izquierda.\n",
    ">> + 4. **Multiplicar** las dos secuencias $x[k]$ y $h[n-k]$ y **sumar** el producto para $-\\infty < k < \\infty$. Este proceso se repite para todos los _shifteos_ posibles de $n$.\n",
    ">> + 5. Claramente, si no se produce ningún traslape la salida será **cero**.\n",
    "\n",
    "### 2. Realizar las gráficas de las dos secuencias:\n",
    "> + Plotear $x[k]$ y $h[n-k]$ sobre un mismo eje de la variable independiente $k$. Para comenzar, la secuencia $h[n-k]$ plotearla para un $n$ negativo, como se puede ver en (a), en la parte alta de la Figura 2.\n",
    "> + Se observa de inmediato que para el caso en que $n<0$, la salida $y[n]=0$, porque en no hay traslape entre las dos secuencias y, por lo tanto, no hay productos que multiplicar ni tampoco nada que sumar.\n",
    "> + Luego, plotear el caso en que $n\\geq 0$ $\\&$ $n-(N-1) \\leq 0$ como se ve en (b) en la Figura 2. En este caso, ambas desigualdades forman una sola desigualdad: $0 \\leq n \\leq (N-1)$. Por lo tanto, $k$ está acotado en el intervalo: $0 \\leq k \\leq n$, que es donde sí existe traslape de ambas secuencias:\n",
    "    >> + Si $0 \\leq n \\leq (N-1)$ entonces $x[k]h[n-k]= a^{k}$. Y la salida será:\n",
    "\n",
    "$$\n",
    "\\begin{align*}\n",
    "y[n] &= x[n]*h[n] \\\\\n",
    "     & = \\sum_{k=0}^{n}x[k]h[n-k], \\quad {\\text{para:}} \\,\\,0 \\leq n \\leq (N-1)\\\\\n",
    "     &= \\sum_{k=0}^{n} a^{k}\\\\\n",
    "     & = \\frac{1-a^{n+1}}{1-a}, \\quad {\\text{para:}} \\,\\,0 \\leq n \\leq (N-1)\n",
    "\\end{align*}\n",
    "$$  \n",
    "\n",
    ">> + Si ahora, $0 < n-(N-1)$, o bien, $N-1<n$, como se ilustra en (c) en la Figura 2, entonces $x[k]h[n-k]= a^{k}$, para $n-(N-1) \\leq k \\leq n$, entonces:\n",
    "$$\n",
    "\\begin{align*}\n",
    "y[n] &= x[n]*h[n] \\\\\n",
    "     & = \\sum_{k=n-(N-1)}^{n}x[k]h[n-k], \\quad {\\text{para:}} \\,\\, N-1 < n\\\\\n",
    "     &= \\sum_{k=n-(N-1)}^{n} a^{k}\\\\\n",
    "     & = a^{n-(N-1)}\\cdot\\frac{1-a^{N}}{1-a}, \\quad {\\text{para:}} \\,\\,N-1 < n\n",
    "\\end{align*}\n",
    "$$\n",
    "> + Por lo tanto,\n",
    "$$\n",
    "\\begin{align*}\n",
    "y[n] & =\\begin{cases}\n",
    "0 & \\text{para } n<0\\\\\n",
    "\\frac{1-a^{n+1}}{1-a} & \\text{para} \\,\\,0 \\leq n \\leq (N-1)\\\\\n",
    "a^{n-(N-1)}\\cdot\\Big(\\frac{1-a^{N}}{1-a}\\Big) & \\text{para} \\,\\,N-1 < n\n",
    "\\end{cases} \n",
    "\\end{align*}\n",
    "$$     "
   ]
  },
  {
   "cell_type": "code",
   "execution_count": 22,
   "metadata": {},
   "outputs": [
    {
     "name": "stdout",
     "output_type": "stream",
     "text": [
      "31\n",
      "31\n"
     ]
    },
    {
     "name": "stderr",
     "output_type": "stream",
     "text": [
      "/home/kasparov/.local/lib/python3.7/site-packages/ipykernel_launcher.py:66: UserWarning: In Matplotlib 3.3 individual lines on a stem plot will be added as a LineCollection instead of individual lines. This significantly improves the performance of a stem plot. To remove this warning and switch to the new behaviour, set the \"use_line_collection\" keyword argument to True.\n"
     ]
    },
    {
     "data": {
      "text/plain": [
       "<StemContainer object of 3 artists>"
      ]
     },
     "execution_count": 22,
     "metadata": {},
     "output_type": "execute_result"
    },
    {
     "data": {
      "image/png": "[encoded data removed]",
      "text/plain": [
       "<Figure size 1152x360 with 1 Axes>"
      ]
     },
     "metadata": {
      "needs_background": "light"
     },
     "output_type": "display_data"
    },
    {
     "data": {
      "image/png": "[encoded data removed]",
      "text/plain": [
       "<Figure size 1152x360 with 1 Axes>"
      ]
     },
     "metadata": {
      "needs_background": "light"
     },
     "output_type": "display_data"
    }
   ],
   "source": [
    "import numpy as np\n",
    "import matplotlib.pyplot as plt\n",
    "%matplotlib inline\n",
    "#1. ESCALÓN\n",
    "s=0\n",
    "p=7\n",
    "m=s+p\n",
    "t=11\n",
    "k=np.arange(-11,20)\n",
    "print(len(k))\n",
    "z=[]\n",
    "for i in range(len(k)):\n",
    "    if k[i]<s:\n",
    "        b=0\n",
    "    if k[i]>=s and k[i]<m:\n",
    "        b=1\n",
    "    if k[i]>=m:\n",
    "        b=0\n",
    "    z.append(b)\n",
    "plt.figure(figsize=(16,5))\n",
    "markerline, stemlines, baseline = plt.stem(k, z,linefmt='midnightblue',markerfmt='ko',use_line_collection=True)\n",
    "plt.xlabel('k',fontsize=18)\n",
    "plt.ylabel('h(k)',fontsize=18)\n",
    "plt.title('Escalón',fontsize=20)\n",
    "plt.ylim(-0.1,1.1)\n",
    "plt.setp(baseline, color='deeppink',linewidth=2)\n",
    "#2. ESCALÓN FLIPEADO\n",
    "j=-5 #j es lo que se correrá el escalón flipeado\n",
    "c=[]\n",
    "for i in range(len(k)):\n",
    "    if k[i]>s and k[i]<m:\n",
    "        b=0\n",
    "    if k[i]<=s and k[i]>-m:\n",
    "        b=1\n",
    "    if k[i]>=m:\n",
    "        b=0\n",
    "    c.append(b)\n",
    "j2=k+j\n",
    "plt.figure(figsize=(16,5))\n",
    "markerline, stemlines, baseline = plt.stem(j2, c,linefmt='midnightblue',markerfmt='ko',use_line_collection=True)\n",
    "plt.xlabel('k',fontsize=18)\n",
    "plt.ylabel('h1(k)',fontsize=18)\n",
    "plt.title('Escalón',fontsize=20)\n",
    "plt.ylim(-0.1,1.1)\n",
    "plt.setp(baseline, color='deeppink',linewidth=2)\n",
    "#3. CAMINO A EXPONENCIAL\n",
    "z2=[]\n",
    "for i in range(len(k)):\n",
    "    if k[i]<s:\n",
    "        b=0\n",
    "    if k[i]>=s and k[i]<m:\n",
    "        b=1\n",
    "    z2.append(b)\n",
    "k1=np.arange(-11,20)\n",
    "dif=len(k1)-len(z2)\n",
    "\n",
    "ones=np.ones(dif)\n",
    "z1=np.concatenate((z2,ones))\n",
    "print(len(z1))\n",
    "#4. EXPONENCIAL\n",
    "a=0.86\n",
    "x=[]\n",
    "for i in range(len(k1)):\n",
    "    x1=(a**k1[i])*z1[i]\n",
    "    x.append(x1)\n",
    "plt.stem(k1,x,markerfmt='bx')"
   ]
  },
  {
   "cell_type": "code",
   "execution_count": null,
   "metadata": {},
   "outputs": [],
   "source": []
  }
 ],
 "metadata": {
  "kernelspec": {
   "display_name": "acus099-env",
   "language": "python",
   "name": "acus099-env"
  },
  "language_info": {
   "codemirror_mode": {
    "name": "ipython",
    "version": 3
   },
   "file_extension": ".py",
   "mimetype": "text/x-python",
   "name": "python",
   "nbconvert_exporter": "python",
   "pygments_lexer": "ipython3",
   "version": "3.7.6"
  }
 },
 "nbformat": 4,
 "nbformat_minor": 4
}
