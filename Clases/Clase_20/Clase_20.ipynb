{
 "cells": [
  {
   "cell_type": "code",
   "execution_count": 1,
   "metadata": {},
   "outputs": [
    {
     "data": {
      "text/html": [
       "<!-- Mejorar visualización en proyector -->\n",
       "<style>\n",
       ".rendered_html {font-size: 1.2em; line-height: 150%;}\n",
       "div.prompt {min-width: 0ex; }\n",
       ".container {width:95% !important;}\n",
       "</style>\n"
      ],
      "text/plain": [
       "<IPython.core.display.HTML object>"
      ]
     },
     "metadata": {},
     "output_type": "display_data"
    }
   ],
   "source": [
    "%%HTML\n",
    "<!-- Mejorar visualización en proyector -->\n",
    "<style>\n",
    ".rendered_html {font-size: 1.2em; line-height: 150%;}\n",
    "div.prompt {min-width: 0ex; }\n",
    ".container {width:95% !important;}\n",
    "</style>"
   ]
  },
  {
   "cell_type": "markdown",
   "metadata": {},
   "source": [
    "<h1 style=\"text-align:center\">Semana 15. Clase 20: Transformada z</h1>\n",
    "<h3 style=\"text-align:center\">ACUS099: Procesamiento digital de señales</h3>\n",
    "<p style=\"text-align:center\">Dr. Víctor Poblete <br>\n",
    "<a href=\"mailto:vpoblete@uach.cl\">vpoblete@uach.cl</a><br>\n",
    "<a href=\"https://github.com/vpobleteacustica/ACUS099-Procesamiento-digital-de-senales\">https://github.com/vpobleteacustica/ACUS099-Procesamiento-digital-de-senales</a><br> \n",
    "<p style=\"text-align:center\">Diego Espejo Alquinta - Ayudante <br>\n",
    "<a href=\"mailto:diego.espejo@alumnos.uach.cl\">diego.espejo@alumnos.uach.cl </a><br>\n",
    "<a href=\"http://www.acusticauach.cl\">www.acusticauach.cl</a><br> "
   ]
  },
  {
   "cell_type": "markdown",
   "metadata": {},
   "source": [
    "### Ejercicios:"
   ]
  },
  {
   "cell_type": "markdown",
   "metadata": {},
   "source": [
    "> + Usar la definición para encontrar la transformada z de: \n",
    "\n",
    ">> + $x[n]=\\delta[n-n_{0}]$\n",
    "\n",
    "$$\n",
    "\\begin{align*}\n",
    "X(z) & = \\sum_{ n=0}^{\\infty} x[n]z^{-n}\\\\\n",
    "     & = \\sum_{ n=0}^{\\infty} \\delta[n-n_{0}]z^{-n}\\\\\n",
    "     & = z^{-n_{0}}\n",
    "\\end{align*}\n",
    "$$\n",
    "\n",
    ">> +  Usando el resultado anterior, resolver: $x[n] = 2\\delta[n] + 3\\delta[n-1] + 5\\delta[n-2] + 2\\delta[n-3]$\n",
    "\n",
    "$$\n",
    "\\begin{align*}\n",
    "X(z) & = 2 + 3z^{-1} + 5 z^{-2} + 2 z^{-3}\n",
    "\\end{align*}\n",
    "$$\n",
    "\n",
    ">> + Observando la transformada z: $X(z) = 4 - 5z^{-2} + z^{-3} - 2 z^{-4}$, encontrar $x[n].$ "
   ]
  },
  {
   "cell_type": "markdown",
   "metadata": {},
   "source": [
    "### Filtro FIR:\n",
    "\n",
    "> + Un filtro FIR se define por la siguiente respuesta impulso:\n",
    "\n",
    "$$\n",
    "\\begin{align*}\n",
    "h[n] & = \\sum_{k=0}^{M} b_{k}\\delta[n-k]\n",
    "\\end{align*}\n",
    "$$\n",
    "\n",
    "> + En un sistema LTI, como el caso de un filtro FIR, con entrada $x[n]$ y respuesta impulso $h[n]$, la salida es:\n",
    "\n",
    "$$\n",
    "\\begin{align*}\n",
    "y[n] & = x[n]*h[n]\n",
    "\\end{align*}\n",
    "$$\n",
    "\n",
    "> + Pensemos que la entrada al filtro FIR es $x[n]=z^{n},\\,\\,-\\infty < n < \\infty$.\n",
    "\n",
    "> + La salida $y[n]$ es:\n",
    "\n",
    "$$\n",
    "\\begin{align*}\n",
    "y[n] & = \\sum_{k=0}^{M} b_{k}x[n-k]\\\\\n",
    "     & = \\sum_{k=0}^{M} b_{k} z^{n-k}\\\\\n",
    "     & = \\sum_{k=0}^{M} b_{k} z^{n}z^{-k}\\\\\n",
    "     & = {\\underbrace{\\left( \\sum_{k=0}^{M} b_{k} z^{-k}\\right)}_{ H(z)}} \\,\\,z^{n}\\\\\n",
    "     & = H(z)\\,z^{n}\n",
    "\\end{align*}\n",
    "$$\n",
    "\n",
    "> + donde el término entre paréntesis es la transformada z de $h[n]$.\n",
    "\n",
    "> + Esta se conoce con el nombre de **función de transferencia** del filtro.\n",
    "\n",
    "> + $H(z)$ es un polinomio de grado $M$ de la variable z.\n",
    "\n",
    "> + Como cualquier polinomio, éste tiene $M$ raíces o llamado también **ceros**.\n",
    "\n",
    "> + Esto es, son los valores $z_{0}$ que hacen que $H(z_{0})=0$.\n",
    "\n",
    "> + El polinomio se escribe como:\n",
    "\n",
    "$$\n",
    "\\begin{align*}\n",
    "H(z) & = b_{0} + b_{1}z^{-1} + \\ldots + b_{M}z^{-M}\\\\\n",
    "     & = \\left(1-z_{1}z^{-1}\\right)\\left(1-z_{2}z^{-1}\\right)\\ldots\\left(1-z_{M}z^{-1}\\right)\\\\\n",
    "     & = \\frac{\\left( z - z_{1}\\right)\\left( z - z_{2}\\right)\\ldots\\left( z - z_{M}\\right)}{z^{M}}\n",
    "\\end{align*}\n",
    "$$\n",
    "\n",
    "> + donde los $z_{k}$, con $k=1,\\ldots, M$, denotan los ceros.\n",
    "\n",
    "### Ejemplo: Encontrar los ceros de:\n",
    "\n",
    "> + $h[n]=\\delta[n] + \\frac{1}{6}\\delta[n-1]-\\frac{1}{6}\\delta[n-2]$"
   ]
  },
  {
   "cell_type": "code",
   "execution_count": null,
   "metadata": {},
   "outputs": [],
   "source": []
  }
 ],
 "metadata": {
  "kernelspec": {
   "display_name": "acus099-env",
   "language": "python",
   "name": "acus099-env"
  },
  "language_info": {
   "codemirror_mode": {
    "name": "ipython",
    "version": 3
   },
   "file_extension": ".py",
   "mimetype": "text/x-python",
   "name": "python",
   "nbconvert_exporter": "python",
   "pygments_lexer": "ipython3",
   "version": "3.8.3"
  }
 },
 "nbformat": 4,
 "nbformat_minor": 4
}
