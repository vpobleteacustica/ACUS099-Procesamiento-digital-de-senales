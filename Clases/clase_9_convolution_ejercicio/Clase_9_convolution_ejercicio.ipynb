{
 "cells": [
  {
   "cell_type": "code",
   "execution_count": 1,
   "metadata": {},
   "outputs": [
    {
     "data": {
      "text/html": [
       "<!-- Mejorar visualización en proyector -->\n",
       "<style>\n",
       ".rendered_html {font-size: 1.2em; line-height: 150%;}\n",
       "div.prompt {min-width: 0ex; }\n",
       ".container {width:95% !important;}\n",
       "</style>\n"
      ],
      "text/plain": [
       "<IPython.core.display.HTML object>"
      ]
     },
     "metadata": {},
     "output_type": "display_data"
    }
   ],
   "source": [
    "%%HTML\n",
    "<!-- Mejorar visualización en proyector -->\n",
    "<style>\n",
    ".rendered_html {font-size: 1.2em; line-height: 150%;}\n",
    "div.prompt {min-width: 0ex; }\n",
    ".container {width:95% !important;}\n",
    "</style>"
   ]
  },
  {
   "cell_type": "markdown",
   "metadata": {},
   "source": [
    "<h1 style=\"text-align:center\">Clase 9: Ejercicio suma de convolución</h1>\n",
    "<h3 style=\"text-align:center\">ACUS099: Procesamiento digital de señales</h3>\n",
    "<p style=\"text-align:center\">Dr. Víctor Poblete <br>\n",
    "<a href=\"mailto:vpoblete@uach.cl\">vpoblete@uach.cl</a><br>\n",
    "<a href=\"https://github.com/vpobleteacustica/ACUS099-Procesamiento-digital-de-senales\">https://github.com/vpobleteacustica/ACUS099-Procesamiento-digital-de-senales</a><br> \n",
    "<p style=\"text-align:center\">Diego Espejo Alquinta - Ayudante <br>\n",
    "<a href=\"mailto:diego.espejo@alumnos.uach.cl\">diego.espejo@alumnos.uach.cl </a><br>\n",
    "<a href=\"http://www.acusticauach.cl\">www.acusticauach.cl</a><br> "
   ]
  },
  {
   "cell_type": "markdown",
   "metadata": {},
   "source": [
    "### Recordar lo que hemos estudiado: \n",
    "\n",
    "> + Un sistema en tiempo discreto\n",
    "> + Matemáticamente, es una transformación $T\\big\\{\\cdot\\big\\}$ de una señal $x[n]$, en una señal de salida $y[n]$. \n",
    "$$\n",
    "\\begin{align*}\n",
    "y[n] &= T\\big\\{x[n]\\big\\}\n",
    "\\end{align*}\n",
    "$$\n",
    ">> + O equivalentemente,\n",
    "$$\n",
    "\\begin{align*}\n",
    "x[n] \\xrightarrow[]{T}y[n]\n",
    "\\end{align*}\n",
    "$$\n",
    "\n",
    "\n",
    "\n",
    "<!--- Inline HTML works too --->\n",
    "<p style=\"text-align:center\">\n",
    "    <a title=\"sistema\"><img src=\"LTI.png\" width=\"380\" height=\"480\" alt=\"Tiny\"></a>\n",
    "    <strong>Figure 1. Representación de un sistema en tiempo discreto.</strong>\n",
    "\n",
    "> + Sistema LTI (linear time invariant), o sistema lineal e invariante en el tiempo, nos permite estimar la salida del sistema a través de la suma de convolución.\n",
    "    \n",
    "> + Respuesta impulso del sistema LTI, la llamamos $h[n]$, que corresponde a la salida del sistema cuando en la entrada hay un impulso de Dirac $\\delta [n]$:\n",
    "\n",
    "<p style=\"text-align:center\">\n",
    "    <a title=\"sistema\"><img src=\"respuesta_impulso.png\" width=\"380\" height=\"380\" alt=\"Tiny\"></a>\n",
    "    <strong>Figure 4. Respuesta al impulso de un sistema LTI.</strong>\n",
    "\n",
    "\n",
    "$$\n",
    "\\begin{align*}\n",
    "\\delta[n] \\xrightarrow[]{T}h[n]\n",
    "\\end{align*}\n",
    "$$\n",
    "    \n",
    "$$\n",
    "\\begin{align*}\n",
    "\\hspace{0.15cm} \\delta[n - k] \\xrightarrow[]{T}h[n - k]\n",
    "\\end{align*}\n",
    "$$ \n",
    "    \n",
    "$$\n",
    "\\begin{align*}\n",
    "\\hspace{0.15cm} x[k] \\delta[n - k] \\xrightarrow[]{T} x[k] h[n - k]\n",
    "\\end{align*}\n",
    "$$     \n",
    "    \n",
    "$$\n",
    "\\begin{align*}\n",
    "\\hspace{0.15cm} \\sum_{k=-\\infty}^{\\infty} x[k] \\delta[n - k] \\xrightarrow[]{T} \\sum_{k=-\\infty}^{\\infty} x[k] h[n - k]\n",
    "\\end{align*}\n",
    "$$\n",
    "    \n",
    "$$\n",
    "\\begin{align*}\n",
    "\\hspace{0.15cm} x[n] \\xrightarrow[]{T} y[n]\n",
    "\\end{align*}\n",
    "$$ \n",
    "    \n",
    ">> + Por lo tanto, por definición la suma de convolución es:\n",
    "$$\n",
    "\\begin{align*}\n",
    "\\hspace{0.15cm} y[n] =   \\sum_{k=-\\infty}^{\\infty} x[k] h[n - k] = x[n]*h[n], \\quad {\\text{para cualquier sistema LTI.}}\n",
    "\\end{align*}\n",
    "$$     \n",
    "    \n"
   ]
  },
  {
   "cell_type": "markdown",
   "metadata": {},
   "source": [
    "#### Ejercicios:\n",
    ">> + Crear una secuencia escalón unitario infinito centrada en $n=0$.\n",
    ">> + Crear una secuencia escalón finito centrada en $n=0$.\n",
    ">> + Crear una secuencia exponencial con $a = 0.85$"
   ]
  },
  {
   "cell_type": "code",
   "execution_count": null,
   "metadata": {},
   "outputs": [],
   "source": []
  }
 ],
 "metadata": {
  "kernelspec": {
   "display_name": "acus099",
   "language": "python",
   "name": "acus099"
  },
  "language_info": {
   "codemirror_mode": {
    "name": "ipython",
    "version": 3
   },
   "file_extension": ".py",
   "mimetype": "text/x-python",
   "name": "python",
   "nbconvert_exporter": "python",
   "pygments_lexer": "ipython3",
   "version": "3.9.4"
  }
 },
 "nbformat": 4,
 "nbformat_minor": 4
}
