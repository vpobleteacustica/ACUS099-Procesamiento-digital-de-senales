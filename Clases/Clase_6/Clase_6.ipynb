{
 "cells": [
  {
   "cell_type": "code",
   "execution_count": 1,
   "metadata": {},
   "outputs": [
    {
     "data": {
      "text/html": [
       "<!-- Mejorar visualización en proyector -->\n",
       "<style>\n",
       ".rendered_html {font-size: 1.2em; line-height: 150%;}\n",
       "div.prompt {min-width: 0ex; }\n",
       ".container {width:95% !important;}\n",
       "</style>\n"
      ],
      "text/plain": [
       "<IPython.core.display.HTML object>"
      ]
     },
     "metadata": {},
     "output_type": "display_data"
    }
   ],
   "source": [
    "%%HTML\n",
    "<!-- Mejorar visualización en proyector -->\n",
    "<style>\n",
    ".rendered_html {font-size: 1.2em; line-height: 150%;}\n",
    "div.prompt {min-width: 0ex; }\n",
    ".container {width:95% !important;}\n",
    "</style>"
   ]
  },
  {
   "cell_type": "markdown",
   "metadata": {},
   "source": [
    "<h1 style=\"text-align:center\">Semana 4. Clase 6: Señales y sistemas</h1>\n",
    "<h3 style=\"text-align:center\">ACUS099: Procesamiento digital de señales</h3>\n",
    "<p style=\"text-align:center\">Dr. Víctor Poblete <br>\n",
    "<a href=\"mailto:vpoblete@uach.cl\">vpoblete@uach.cl</a><br>\n",
    "<a href=\"https://github.com/vpobleteacustica/ACUS099-Procesamiento-digital-de-senales\">https://github.com/vpobleteacustica/ACUS099-Procesamiento-digital-de-senales</a><br> \n",
    "<p style=\"text-align:center\">Diego Espejo Alquinta - Ayudante <br>\n",
    "<a href=\"mailto:diego.espejo@alumnos.uach.cl\">diego.espejo@alumnos.uach.cl </a><br>\n",
    "<a href=\"http://www.acusticauach.cl\">www.acusticauach.cl</a><br> "
   ]
  },
  {
   "cell_type": "markdown",
   "metadata": {},
   "source": [
    "### Muestreo y Cuantización.\n",
    "\n",
    "> + Para crear una señal digital necesitamos convertir la señal continua en forma de digital. Esto significa realizar dos procesos:\n",
    ">> 1. Muestreo (sampleo).\n",
    ">> 1. Cuantización.\n",
    "> + Vamos a explicar cada uno usando un punto de vista de **sistema**: con entrada, proceso realizado por un sistema $H$ y salida.\n",
    "> + **Muestreo** es un proceso para convertir una señal análoga en una de tiempo discreto.\n",
    "> + Muestrear significa tomar puntos a lo largo de la curva y cuántos puntos tomemos está determinado por la **tasa de muestreo**.\n",
    "\n",
    "<!--- Inline HTML works too --->\n",
    "<p style=\"text-align:center\">\n",
    "    <a title=\"sistema\"><img src=\"TasaMuestreo.png\" width=\"330\" height=\"330\" alt=\"Tiny\"></a>\n",
    "    <strong>Figure 1. Frecuencia de muestreo $f_{s}$.</strong>\n",
    "\n",
    "> + La tasa de muestreo se expresa usualmente en **Hz**.\n",
    "> + Una tasa de muestreo de 10 Hz significa que tomaremos 10 muestras cada segundo. Es decir, el intervalo de tiempo entre una muestra y la muestra inmediatamente siguiente es de 0.1 segundo:\n",
    "$$\n",
    "\\begin{align}\n",
    "T_{s} &= \\frac{1}{f_{s}} = \\frac{1}{10} = 0.1\\,\\,{\\text{segundo }}\n",
    "\\end{align}\n",
    "$$\n",
    "> + Debemos tomar un número suficiente de muestras para que la señal original sea reconstruida apropiadamente.\n",
    "> + Mientras más alta la tasa de muestreo más muestras vamos a tomar. En tanto que mientras más baja sea la tasa de muestreo, menos muestras vamos a tomar y la forma de la señal reconstruida empeorará respecto a la señal original. \n",
    "    \n",
    "| $T_{s}$ pequeño        | versus $T_{s}$ más grande     |\n",
    "| :---                   | :----:                 |\n",
    "| - más muestras         | - menos muestras       |\n",
    "| - más almacenamiento   | - menos almacenamiento |\n",
    "| - mejor reconstrucción | - peor reconstrucción  |\n",
    "    \n",
    "> + El número de muestras que se tomen depende de la frecuencia máxima presente en la señal original.\n",
    "\n",
    "\n",
    "<!--- Inline HTML works too --->\n",
    "<p style=\"text-align:center\">\n",
    "    <a title=\"sistema\"><img src=\"SISTEMAS.png\" width=\"600\" height=\"600\" alt=\"Tiny\"></a>\n",
    "    <strong>Figure 2. Procesos para obtener data digital.</strong>\n"
   ]
  },
  {
   "cell_type": "markdown",
   "metadata": {},
   "source": [
    "> * Muestreo\n",
    "<!--- Inline HTML works too --->\n",
    "<p style=\"text-align:center\">\n",
    "    <a title=\"sistema\"><img src=\"Foto1.png\" width=\"400\" height=\"400\" alt=\"Tiny\"></a>\n",
    "    <strong>Figure 3. Procesos de muestreo.</strong>\n",
    "    \n",
    "<!--- Inline HTML works too --->\n",
    "<p style=\"text-align:center\">\n",
    "    <a title=\"sistema\"><img src=\"Foto2.png\" width=\"400\" height=\"400\" alt=\"Tiny\"></a>\n",
    "    <strong>Figure 4. Proceso con alta tasa de muestreo.</strong>\n",
    "    \n",
    "<!--- Inline HTML works too --->\n",
    "<p style=\"text-align:center\">\n",
    "    <a title=\"sistema\"><img src=\"Foto3.png\" width=\"400\" height=\"400\" alt=\"Tiny\"></a>\n",
    "    <strong>Figure 5. Proceso con muy baja tasa de muestreo.</strong>\n",
    "\n",
    "> + **Aliasing** significa una distorsión en la señal reconstruida en la que aparecen frecuencias que no existen en la señal original.\n",
    "> + **Teorema del muestreo de Nyquist:** Si existe una frecuencia máxima en una señal, la tasa de muestreo debería ser al menos el doble de la frecuencia máxima.\n",
    ">> + Una señal de **banda limitada**, es decir, una señal que no tiene componentes de frecuencia mayores que $f_{max}$ (Hz) es completamente descrita por sus valores de muestras a intervalos uniformes menores que o iguales a $\\frac{1}{2\\cdot f_{max}}$, es decir,\n",
    "$$\n",
    "    \\begin{align*}\n",
    "    T_{s}&\\leq\\frac{1}{2\\cdot f_{max}}\n",
    "    \\end{align*}\n",
    "$$\n",
    ">> + O bien,\n",
    "$$\n",
    "    \\begin{align*}\n",
    "    f_{s}&\\geq 2\\cdot f_{max}\n",
    "    \\end{align*}\n",
    "$$"
   ]
  },
  {
   "cell_type": "markdown",
   "metadata": {},
   "source": [
    "### Cuantización\n",
    "> + Luego, las muestras como valores de amplitud que recién tomamos durante el procesos de muestreo, ahora son **asignadas a valores numéricos** que el computador puede usar en un proceso llamado **cuantización**.\n",
    "> + Una manera de ver el proceso de cuantización es como una serie de niveles de energía cuantizados en escalones en un tiempo dado.\n",
    "\n",
    "<!--- Inline HTML works too --->\n",
    "<p style=\"text-align:center\">\n",
    "    <a title=\"sistema\"><img src=\"SISTEMAS.png\" width=\"600\" height=\"600\" alt=\"Tiny\"></a>\n",
    "    <strong>Figure 6. Procesos para obtener data digital.</strong>\n",
    "\n",
    "> + Los computadores usan **bits** para almacenar valores. El número de **bits** (binary digit = “bit”) que se usen se llama **profundidad de bit** (*bit depth*).\n",
    "> + Mientras mayor sea la profundidad de bits:\n",
    ">> + mayor el número de valores posibles,\n",
    ">> + más precisa será la amplitud.\n",
    ">> + con $n$ bits, tendremos $2^n$ valores posibles que se pueden representar.\n",
    "> + Los tradicionales archivos de audio wav almacenan usualmente muestras que son representadas por un número binario con 16 digitos ($n=16$) y cada muestra puede tener $ 2^{n}= 2^{16} = 65.536$ posibles valores.\n",
    "> + En un sistema de 16-bit el número positivo más grande es $2^{15}-1 = 32767$ y el número negativo más grande es $-2^{15}=-32768$.    \n",
    "> + Además, las muestras de señales de audio típicamente varían en el rango entre -1.0 a 1.0 (muestras positivas y negativas) por lo que éste se divide entre -32768 a 32767 niveles cuantizados. \n",
    "> + Estos números son de tipo punto-fijo (“fixed-point”), ya que ellos números enteros y, por lo tanto, no tienen punto decimal.\n",
    "> + Como definición, cuantización es el proceso de mapear un rango continuo de valores en un rango finito de valores discretos.\n",
    "> + Un cuantizador en procesamiento de señal es un algoritmo que mapea un **amplitud continua** a una **amplitud discreta**. \n",
    "> + La salida del cuantizador es discreta lo que significa que el cuantizador solamente tiene como salida $Q$ valores diferentes.\n",
    "> + Cuantización involucra que necesitaremos **redondear** al nivel más cercano.\n",
    "> + Cuantización es también una forma de **compresión** de datos (en un espacio de menor dimensionalidad).\n",
    "> + La diferencia entre una muestra de entrada de cierta amplitud y su valor cuantizado se llama **error de cuantización**.\n",
    "> + En resumen, cuantización es el mapeo de un rango continuo de valores a un conjunto finito de valores. Implica cambiar una precisión infinita a una precisión finita. Y redondear una muestra a su nivel de cuantización más cercano. "
   ]
  },
  {
   "cell_type": "markdown",
   "metadata": {},
   "source": [
    "### Ejemplo: ilustrar el proceso de cuantización\n",
    "\n",
    "> + Dibujemos una señal de entrada senoidal con un solo ciclo, como se ve en la siguiente figura:\n",
    "\n",
    "<!--- Inline HTML works too --->\n",
    "<p style=\"text-align:center\">\n",
    "    <a title=\"sistema\"><img src=\"Senoidal.png\" width=\"600\" height=\"600\" alt=\"Tiny\"></a>\n",
    "    <strong>Figure 7. Ilustración del proceso de cuantización.</strong>\n",
    "\n",
    "> + Algunas definiciones:\n",
    ">> + **Profundidad de bit** (bit-depth): $n$ = número de bits. Vamos a suponer que $n = 2$.\n",
    ">> + **Número de niveles cuantizados**: $L = 2^{n}$. Para este ejemplo, $L = 2^{2}=4$.\n",
    ">> + **Tamaño del escalón** (step-size): \n",
    "$$\n",
    "\\begin{align*}\n",
    "\\Delta &= \\frac{x_{max} - x_{min}}{L}\\\\\n",
    "       &= \\frac{1 - (-1)}{4} = 0.5\n",
    "\\end{align*}\n",
    "$$\n",
    ">> + **Indice de redondeo**: $I = round\\big(\\frac{x-x_{min}}{\\Delta}\\big)$    \n",
    ">> + **Magnitud cuantizada**: $x_{c}=x_{min}+I\\cdot \\Delta$. \n",
    ">>> + Por ejemplo, si x = 0.707, entonces:\n",
    "$$\n",
    "\\begin{align*}\n",
    "I &= round\\Big(\\frac{x-x_{min}}{\\Delta}\\Big)\\\\\n",
    "&= round\\Big(\\frac{0.707-(-1)}{0.5}\\Big)\\\\\n",
    "&= round\\big(3.414\\big)\\\\\n",
    "&= 3\n",
    "\\end{align*}\n",
    "$$\n",
    ">>> + $x_{c}=x_{min}+I\\cdot \\Delta = -1 + 3\\cdot(0.5)=0.5$\n",
    "\n",
    ">> + Considerar los siguientes valores muestreados: \n",
    "    \n",
    "| $x$ valor muestreado   | $I$ índice     | $x_{c}$ valor cuantizado |data digital |\n",
    "| :---                   | :----          | :----          | :----                 | \n",
    "| 0                      |                |                |                       |\n",
    "| 0.707                  |  3             |  0.5           |                       |\n",
    "| 1                      |                |                |                       |\n",
    "| 0.707                  |                |                |                       |\n",
    "| 0                      |                |                |                       |\n",
    "| -0.707                 |                |                |                       | \n",
    "| -1                     |                |                |                       | \n",
    "    "
   ]
  },
  {
   "cell_type": "code",
   "execution_count": 45,
   "metadata": {},
   "outputs": [
    {
     "data": {
      "text/plain": [
       "(array([-1.5, -1. , -0.5,  0. ,  0.5,  1. ,  1.5]),\n",
       " <a list of 7 Text yticklabel objects>)"
      ]
     },
     "execution_count": 45,
     "metadata": {},
     "output_type": "execute_result"
    },
    {
     "data": {
      "image/png": "[encoded data removed]",
      "text/plain": [
       "<Figure size 1440x504 with 1 Axes>"
      ]
     },
     "metadata": {
      "needs_background": "light"
     },
     "output_type": "display_data"
    }
   ],
   "source": [
    "# https://dspillustrations.com/pages/posts/misc/quantization-and-quantization-noise.html\n",
    "import numpy as np\n",
    "import matplotlib\n",
    "import matplotlib.pyplot as plt\n",
    "import numpy as np \n",
    "\n",
    "b          = 2            # number of bits for quantization. \n",
    "q          = 2**b         # 2 bits equal 4 quantization levels\n",
    "U          = 1            # max. Amplitude to be quantized\n",
    "Delta_s    = 2*U/q  # level distance\n",
    "\n",
    "S_midrise  = -U + Delta_s/2 + np.arange(q)*Delta_s\n",
    "S_midtread = -U  + np.arange(q)*Delta_s\n",
    "\n",
    "def quantize(x, S):\n",
    "    X = x.reshape((-1,1))\n",
    "    S = S.reshape((1,-1))\n",
    "    dists = abs(X-S)\n",
    "    \n",
    "    nearestIndex = dists.argmin(axis=1) # Returns the indices of the minimum values along an axis.\n",
    "    quantized = S.flat[nearestIndex]\n",
    "    \n",
    "    return quantized.reshape(x.shape)\n",
    "\n",
    "In           = np.linspace(-1.3*U, 1.3*U, 2000)\n",
    "Out_midrise  = quantize(In, S_midrise)\n",
    "Out_midtread = quantize(In, S_midtread)\n",
    "\n",
    "plt.figure(figsize=(20, 7))\n",
    "plt.plot(In, Out_midrise, lw=2, label='mid-rise',color='red')\n",
    "plt.plot(In, Out_midtread, lw=2, label='mid-tread',color='blue')\n",
    "plt.grid(True)\n",
    "plt.legend(['mid-rise', 'mid-tread'],prop={\"size\":16});\n",
    "ymin = -1.3\n",
    "ymax = 1.3\n",
    "plt.ylim( (ymin, ymax) ) \n",
    "\n",
    "plt.xlabel('Entrada al cuantizador ''$x$'' ',fontsize=16)\n",
    "plt.ylabel('Salida del cuantizador ''$Q[x]$'' ',fontsize=16)\n",
    "plt.xticks(fontsize=16)\n",
    "plt.yticks(fontsize=16)\n"
   ]
  },
  {
   "cell_type": "markdown",
   "metadata": {},
   "source": [
    "### Conceptos importantes:\n",
    "\n",
    "> + Una señal en tiempo discreto se representa matemáticamente como una secuencia $x$ de números, donde el n-ésimo número de esta secuencia se denota por $x[n]$.\n",
    "> + Formalmente,\n",
    "$$\n",
    "\\begin{align*}\n",
    "x&=\\{x[n]\\}, \\quad -\\infty < n < \\infty    \n",
    "\\end{align*}\n",
    "$$\n",
    "donde $n$ es un entero.\n",
    "> + Cuando muestreamos periódicamente una señal analógica de tiempo continuo $x_{a}(t)$, el valor numérico de la muestra n-ésima en la secuencia $x$ es igual al valor de la señal de tiempo continuo en el tiempo $nT$, es decir,\n",
    "$$\n",
    "\\begin{align*}\n",
    "x[n]&=x_{a}(nT),\\quad -\\infty < n < \\infty\n",
    "\\end{align*}\n",
    "$$\n",
    "> + $T$ es el período de muestreo y su recíproco se denomina **frecuencia de muestreo**, $f_{s}$, a veces se le llama también **tasa de muestreo**.\n",
    "> + A continuación, vamos a crear una señal senoidal y la guardaremos como un archivo **wav**. \n",
    "> + Desarrollo paso a paso:"
   ]
  },
  {
   "cell_type": "markdown",
   "metadata": {},
   "source": [
    "### 1. Ecuación de una señal senoidal:\n",
    "\n",
    "> + La señal senoidal se representa matemáticamente como:\n",
    "\\begin{align}\n",
    "x(t) &= A \\, {\\text{sin}}\\,(\\omega t) = A \\, {\\text{sin}}\\,(2 \\pi f t)\n",
    "\\end{align}\n",
    "\n",
    "> donde $x(t)$ es la muestra en el eje de la ordenada que queremos calcular para una muestra de tiempo en el eje de la abscisa; $A$ es la amplitud; $\\pi$ es 3.14159$\\ldots$; $f$ es la frecuencia y $t$ es nuestra muestra. \n",
    "\n",
    "> + Ya que se necesita convertir la señal a digital, entonces la **dividiremos por la frecuencia de muestreo** ($t = nT \\rightarrow \\frac{n}{f_{s}}$).\n",
    "\n",
    "### 2. Frecuencia.\n",
    "> + La **frecuencia** $f$, es el número de veces que una onda senoidal se repite en un segundo. Usaremos como ejemplo una frecuencia $f=440$ Hz.\n",
    "\n",
    "### 3. Tasa de muestreo.\n",
    "> + Desde un punto de vista físico, una señal del mundo real es una función de tiempo continuo (señal analógica), por ejemplo, la variación de la presión sonora en un punto. Pero, los computadores son digitales, así que es necesario transformar la señal de tiempo continuo a una señal en tiempo discreto y con amplitud también discreta (señal digital). \n",
    "> + Un concepto importante a reconocer aquí se llama **tasa de muestreo** que es el número de veces por segundo que tomaremos una muestra de la señal analógica.  \n",
    "> + Usaremos un valor de tasa de muestreo $f_{s}=44100$ muestras /segundo.\n",
    "\n",
    "### 4. Amplitud.\n",
    "\n",
    "> + Con fines de procesamiento y almacenamiento, la señal senoidal que vamos a generar estará representada como números de punto flotante (tipo ${\\texttt{float}}$ en Python https://docs.scipy.org/doc/numpy/user/basics.types.html), que es un tipo de dato numérico usado por los computadores para representar en forma compacta, números reales que son extremadamente grandes, como por ejemplo, la distancia desde la Tierra al Sol que es aproximadamente ${\\text{149.600.000}}$ (km), en Python sería ${\\text{1.496e8}}$ (km); el infinito en Python: ${\\texttt{print(1.82e308)}}$, o bien, números reales que son extremadamente pequeños, como por ejemplo, la masa de una molécula de agua que es ${\\text{3}}\\cdot 10^{-23}$ (gr), en Python sería ${\\text{3e-23}}$ (gr).\n",
    "\n",
    "> + Todo esto sería muy bueno para plotear un gráfico, sin embargo, no funcionará si queremos escribir un archivo wav, ya que estamos trabajando con enteros. Los archivos wav se escriben como enteros cortos de 16-bit. Si escribimos un número de punto flotante, no se representará correctamente.\n",
    "\n",
    "> + Para evitar esto, se convierten nuestros datos numéricos de punto flotante, a dato numérico de punto fijo (https://www.sounddevices.com/32-bit-float-files-explained/). Una forma de hacer ésto es multiplicar por una constante. El valor máximo del número de 16 bits con signo es 32767 ($2^{15} - 1$). Debido a que el bit más a la izquierda está reservado para el signo, lo que deja 15 bits. Elevamos 2 a la potencia de 15 y luego restamos uno, ya que las computadoras cuentan desde 0).\n",
    "\n",
    "> + Podemos grabar la señal de audio a escala completa bastará multiplicar por 32767. Pero, basta trabajar con la mitad la mitad de alta que la escala completa, así que usaré una amplitud de 16000.\n",
    "\n",
    "So we want full scale audio, we’d multiply it with 32767. But I want an audio signal that is half as loud as full scale, so I will use an amplitude of 16000."
   ]
  },
  {
   "cell_type": "code",
   "execution_count": 2,
   "metadata": {},
   "outputs": [
    {
     "name": "stderr",
     "output_type": "stream",
     "text": [
      "/home/kasparov/.local/lib/python3.6/site-packages/ipykernel_launcher.py:39: UserWarning: In Matplotlib 3.3 individual lines on a stem plot will be added as a LineCollection instead of individual lines. This significantly improves the performance of a stem plot. To remove this warning and switch to the new behaviour, set the \"use_line_collection\" keyword argument to True.\n"
     ]
    },
    {
     "data": {
      "image/png": "[encoded data removed]",
      "text/plain": [
       "<Figure size 1440x504 with 1 Axes>"
      ]
     },
     "metadata": {
      "needs_background": "light"
     },
     "output_type": "display_data"
    }
   ],
   "source": [
    "# https://www.pythonforengineers.com/audio-and-digital-signal-processingdsp-in-python/\n",
    "import numpy as np\n",
    " \n",
    "import wave\n",
    " \n",
    "import struct\n",
    " \n",
    "import matplotlib.pyplot as plt\n",
    "%matplotlib inline\n",
    " \n",
    "# frequency is the number of times a wave repeats a second\n",
    " \n",
    "frequency = 2\n",
    " \n",
    "num_samples = 40\n",
    " \n",
    "# The sampling rate of the analog to digital convert\n",
    " \n",
    "sampling_rate = 40.0\n",
    " \n",
    "amplitude = 16000\n",
    " \n",
    "file = \"test.wav\"\n",
    "\n",
    "sine_wave = []\n",
    "for x in range(num_samples):\n",
    "    #print(x)\n",
    "    xn = np.sin(2 * np.pi * frequency * x/sampling_rate)\n",
    "    sine_wave.append(xn)\n",
    "    #print(sine_wave)\n",
    "#sine_wave = [np.sin(2 * np.pi * frequency * x/sampling_rate) for x in range(num_samples)]\n",
    "\n",
    "#print(sine_wave)\n",
    "\n",
    "plt.figure(figsize=(20, 7))\n",
    "plt.xlabel('n')\n",
    "plt.ylabel('x[n]')\n",
    "#plt.title(r'$x[n],\\,\\, n \\geq 0 $',fontsize= 30)\n",
    "plt.stem(sine_wave);\n",
    "plt.show()"
   ]
  },
  {
   "cell_type": "markdown",
   "metadata": {},
   "source": [
    "### Concepto clave: Señal delta unitario (delta de Kronecker)\n",
    "\n",
    "Esta señal denotada como $\\delta[n]$ no es una función en el sentido convencional. Esta se define como:\n",
    "\n",
    "\\begin{align}\n",
    "\\text{centrada:}\\quad \\delta[n] &= \\begin{cases}\n",
    "1 & \\text{para } n = 0 \\\\\n",
    "0 & \\text{otro caso}\n",
    "\\end{cases}\n",
    "\\end{align}\n",
    "\n",
    "\n",
    "\\begin{align}\n",
    "{\\it{Shifteada}:}\\quad  \\delta[n-k] &= \\begin{cases}\n",
    "1 & n = k \\\\\n",
    "0 & n \\neq k\n",
    "\\end{cases}\n",
    "\\end{align}\n",
    "\n",
    "\n",
    "Esta función es también conocida como [*delta de Kronecker*](https://en.wikipedia.org/wiki/Kronecker_delta). La señal es un **impulso unitario**. Sus propiedades más importantes son:\n",
    "\n",
    "1. **Propiedad de Sifting**\n",
    "\n",
    "    \\begin{align}\n",
    "    \\sum_{k=-\\infty}^{\\infty} x[k] \\cdot \\delta[n - k] &= x[n]\n",
    "    \\end{align}\n",
    "    \n",
    "    Esta importante propiedad implica: $\\sum_{k = -\\infty}^{\\infty} x[k] = 1$.\n",
    "         \n",
    "2. **Propiedad de Linealidad**\n",
    "    \\begin{align}\n",
    "    a \\cdot \\delta[n] + b \\cdot \\delta[n] = (a+b) \\cdot \\delta[n]\n",
    "    \\end{align}\n",
    "\n",
    "Esta secuencia impulso unitario de Dirac tiene relevancia tanto en análisis de señales como también en el estudio de sistemas. Se usa fundamentalmente en el análisis de sistemas discretos **lineales** e **invariantes en el tiempo**, a través de las **respuestas impulso** de aquellos sistemas.\n"
   ]
  },
  {
   "cell_type": "markdown",
   "metadata": {},
   "source": [
    "### Representar una señal $x[n]$ en términos de impulsos *shifteados* ponderados\n",
    "\n",
    "+ Una secuencia (señal discreta) $x[n]$ consiste de las siguientes muestras de valores de amplitud: $\\{x[0], x[1], x[2], x[3], x[4], x[5] \\}=\\{-1, -1, 2,2, 3, 3 \\}$. Representar matemáticamente significa:\n",
    "$$\n",
    "\\begin{align*}\n",
    "x[n] &= x[0]\\delta[0] + x[1]\\delta[n-1] + x[2]\\delta[n-2] + x[3]\\delta[n-3] + x[4]\\delta[n-4] + x[5]\\delta[n-5]\n",
    "\\end{align*}\n",
    "$$\n",
    "\n",
    "**En resumen:** Lo clave es que podemos descomponer cualquier secuencia $x[n]$ en una suma de impulsos *shifteados* en cada punto muestreado, cada impulso siendo ponderado por el valor de amplitud de x[n]."
   ]
  },
  {
   "cell_type": "markdown",
   "metadata": {},
   "source": [
    "### Sistema lineal e invariante en tiempo discreto (LTI).\n",
    "\n",
    "<!--- Inline HTML works too --->\n",
    "<p style=\"text-align:center\">\n",
    "    <a title=\"sistema\"><img src=\"SISTEMALTI.png\" width=\"300\" height=\"300\" alt=\"Tiny\"></a>\n",
    "    <strong>Figure 1. Sistema lineal e invariante en tiempo discreto.</strong>\n"
   ]
  },
  {
   "cell_type": "markdown",
   "metadata": {},
   "source": [
    "> + La operación **convolución** es el corazón en cualquier sistema lineal e invariante en el tiempo usado para procesamiento de señales. \n",
    "\n",
    "$$\n",
    "\\begin{align*}\n",
    "y[n] &= x[n]*h[n]\\\\\n",
    "     &= \\sum_{k=-\\infty}^{\\infty} x[k]\\,h[n-k] \\\\\n",
    "     &= \\sum_{k=-\\infty}^{\\infty} h[k]\\,x[n-k] \n",
    "\\end{align*}\n",
    "$$\n",
    "\n",
    "donde $h[h]$ se llama la **respuesta impulso del sistema**."
   ]
  },
  {
   "cell_type": "markdown",
   "metadata": {},
   "source": [
    "> + En efecto, expresemos $x[n]$ como:\n",
    "\\begin{align*}\n",
    "    x[n]&= \\sum_{k=-\\infty}^{\\infty} x[k] \\cdot \\delta[n - k] \n",
    "\\end{align*}\n",
    "\n",
    "De tal manera que la entrada al sistema LTI será transformada por el sistema $T\\{\\cdot\\}$ siendo la salida:\n",
    "\n",
    "\\begin{align*}\n",
    "    y[n]&= T\\\\sum_{k=-\\infty}^{\\infty} x[k] \\cdot \\delta[n - k] \n",
    "\\end{align*}"
   ]
  },
  {
   "cell_type": "code",
   "execution_count": null,
   "metadata": {},
   "outputs": [],
   "source": []
  }
 ],
 "metadata": {
  "kernelspec": {
   "display_name": "Python 3",
   "language": "python",
   "name": "python3"
  },
  "language_info": {
   "codemirror_mode": {
    "name": "ipython",
    "version": 3
   },
   "file_extension": ".py",
   "mimetype": "text/x-python",
   "name": "python",
   "nbconvert_exporter": "python",
   "pygments_lexer": "ipython3",
   "version": "3.6.9"
  }
 },
 "nbformat": 4,
 "nbformat_minor": 4
}
