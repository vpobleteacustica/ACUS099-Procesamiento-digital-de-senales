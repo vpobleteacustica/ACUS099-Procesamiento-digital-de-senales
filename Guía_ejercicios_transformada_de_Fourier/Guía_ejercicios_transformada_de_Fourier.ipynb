{
 "cells": [
  {
   "cell_type": "code",
   "execution_count": 1,
   "metadata": {},
   "outputs": [
    {
     "data": {
      "text/html": [
       "<!-- Mejorar visualización en proyector -->\n",
       "<style>\n",
       ".rendered_html {font-size: 1.2em; line-height: 150%;}\n",
       "div.prompt {min-width: 0ex; }\n",
       ".container {width:95% !important;}\n",
       "</style>\n"
      ],
      "text/plain": [
       "<IPython.core.display.HTML object>"
      ]
     },
     "metadata": {},
     "output_type": "display_data"
    }
   ],
   "source": [
    "%%HTML\n",
    "<!-- Mejorar visualización en proyector -->\n",
    "<style>\n",
    ".rendered_html {font-size: 1.2em; line-height: 150%;}\n",
    "div.prompt {min-width: 0ex; }\n",
    ".container {width:95% !important;}\n",
    "</style>"
   ]
  },
  {
   "cell_type": "markdown",
   "metadata": {},
   "source": [
    "<h1 style=\"text-align:center\">Guía de Ejercicios transformada de Fourier en tiempo discreto</h1>\n",
    "<h3 style=\"text-align:center\">ACUS099: Procesamiento digital de señales</h3>\n",
    "<p style=\"text-align:center\">Dr. Víctor Poblete <br>\n",
    "<a href=\"mailto:vpoblete@uach.cl\">vpoblete@uach.cl</a><br>\n",
    "<a href=\"https://github.com/vpobleteacustica/ACUS099-Procesamiento-digital-de-senales\">https://github.com/vpobleteacustica/ACUS099-Procesamiento-digital-de-senales</a><br> \n",
    "<p style=\"text-align:center\">Diego Espejo Alquinta - Ayudante <br>\n",
    "<a href=\"mailto:diego.espejo@alumnos.uach.cl\">diego.espejo@alumnos.uach.cl </a><br>\n",
    "<a href=\"http://www.acusticauach.cl\">www.acusticauach.cl</a><br> "
   ]
  },
  {
   "cell_type": "code",
   "execution_count": 2,
   "metadata": {},
   "outputs": [],
   "source": [
    "import numpy as np\n",
    "import matplotlib.pyplot as plt\n",
    "from matplotlib import pyplot\n",
    "%matplotlib inline"
   ]
  },
  {
   "cell_type": "markdown",
   "metadata": {},
   "source": [
    "### Resolver los siguientes ejercicios:"
   ]
  },
  {
   "cell_type": "markdown",
   "metadata": {},
   "source": [
    "> 1. Demuestre que la transformada de Fourier de tiempo discreto, $X(e^{j\\omega})= \\mathscr{F}\\left\\{x[n]\\right\\} $  es siempre periódica en frecuencia, $\\omega$, con período $2\\pi$, es decir, se cumple que:\n",
    "$$\n",
    "    \\begin{align*}\n",
    "        X(e^{j(\\omega + 2\\pi)}) & = X(e^{j\\omega})\n",
    "    \\end{align*}\n",
    "$$"
   ]
  },
  {
   "cell_type": "markdown",
   "metadata": {},
   "source": [
    "> 2. Obtener la transformada de Fourier de tiempo discreto, $X(e^{j\\omega})= \\mathscr{F}\\left\\{x[n]\\right\\} $ de un secuencia impulso unitario despalaza en $n_0$:\n",
    "$$\n",
    "    \\begin{align*}\n",
    "        x[n] & = \\delta[n-n_0]\n",
    "    \\end{align*}\n",
    "$$"
   ]
  },
  {
   "cell_type": "markdown",
   "metadata": {},
   "source": [
    "> 3. Obtener la transformada de Fourier de tiempo discreto, $X(e^{j\\omega})= \\mathscr{F}\\left\\{x[n]\\right\\} $ de la suma de dos señales escaladas:\n",
    "$$\n",
    "    \\begin{align*}\n",
    "        x[n] & = ax_1[n] + bx_2[n]\n",
    "    \\end{align*}\n",
    "$$"
   ]
  },
  {
   "cell_type": "markdown",
   "metadata": {},
   "source": [
    "> 4. Obtener la transformada de Fourier de tiempo discreto, $H(e^{j\\omega})= \\mathscr{F}\\left\\{h[n]\\right\\} $ de:\n",
    "$$\n",
    "    \\begin{align*}\n",
    "        h[n] & = 5\\delta[n-1] -4\\delta[n-3] + 3\\delta[n-5]\n",
    "    \\end{align*}\n",
    "$$"
   ]
  },
  {
   "cell_type": "markdown",
   "metadata": {},
   "source": [
    "> 5. Determinar la transformada de Fourier de tiempo discreto de un pulso rectangular:\n",
    "$$\n",
    "    \\begin{align*}\n",
    "        r[n] & = u[n+3] - u[n+4] \n",
    "    \\end{align*}\n",
    "$$\n",
    ">> + Crear dos figuras en Python para representar el pulso rectangular y su transformada de Fourier, $\\left| R(e^{j\\omega}) \\right|$, para $-\\pi \\leq \\omega \\leq \\pi$."
   ]
  },
  {
   "cell_type": "markdown",
   "metadata": {},
   "source": [
    "> 6. Sea $x[n]=\\delta[n]+\\delta[n-1]+\\delta[n+1].$ Demostrar que: \n",
    "$$\n",
    "X(e^{j\\omega})=1+2cos(\\omega)\n",
    "$$\n",
    ">> + Graficar en Python, $\\left| X(e^{j\\omega}) \\right|$, para $-\\pi \\leq \\omega \\leq \\pi$."
   ]
  },
  {
   "cell_type": "markdown",
   "metadata": {},
   "source": [
    "> 7. Obtener la transformada de Fourier de tiempo discreto, $X(e^{j\\omega})= \\mathscr{F}\\left\\{x[n]\\right\\} $ de una señal exponencial real, decreciente $0<a<1$ y $b > 0$, donde $u[n]$ es un escalón unitario centrado en $n=0$:\n",
    "$$\n",
    "    \\begin{align*}\n",
    "        x[n] & = a\\cdot e^{-b\\cdot n}\\cdot u[n]\n",
    "    \\end{align*}\n",
    "$$\n",
    ">> + Crear figuras en Python para representar usando $a=0.5$ y $b=0.5$, la parte real de transformada de Fourier, la parte imaginaria de la transformada de Fourier, el espectro de magitud y el espectro de fase de transformada de Fourier, para $-\\pi \\leq \\omega \\leq \\pi$."
   ]
  },
  {
   "cell_type": "markdown",
   "metadata": {},
   "source": [
    "> 8. Obtener la transformada de Fourier de tiempo discreto, $X(e^{j\\omega})= \\mathscr{F}\\left\\{x[n]\\right\\} $ de una señal exponencial real, decreciente $0<a<1$ donde $u[n]$ es un escalón unitario centrado en $n=0$:\n",
    "$$\n",
    "    \\begin{align*}\n",
    "        x[n] & = a^{n}\\cdot u[n]\n",
    "    \\end{align*}\n",
    "$$\n",
    ">> + Crear figuras en Python para representar la parte real de transformada de Fourier, la parte imaginaria de la transformada de Fourier, el espectro de magitud y el espectro de fase de transformada de Fourier, para $-\\pi \\leq \\omega \\leq \\pi$."
   ]
  },
  {
   "cell_type": "markdown",
   "metadata": {},
   "source": [
    "> 9 Determinar la transformada de Fourier $X(e^{j\\omega})= \\mathscr{F}\\left\\{x[n]\\right\\}$, de $x[n]=a^{n}\\,u[n],$ con $-1<a<0$. \n",
    ">> + Graficar en Python, como una función de la frecuencia $\\omega$: $\\operatorname{\\mathbb{R}e}\\{X(e^{j\\omega})\\}$, $\\operatorname{\\mathbb{I}m}\\{X(e^{j\\omega})\\}$, el espectro de magnitud $\\left| X(e^{j\\omega}) \\right|$ y el espectro de fase $\\phi(e^{j\\omega})$.\n",
    "     "
   ]
  }
 ],
 "metadata": {
  "kernelspec": {
   "display_name": "acus099-env",
   "language": "python",
   "name": "acus099-env"
  },
  "language_info": {
   "codemirror_mode": {
    "name": "ipython",
    "version": 3
   },
   "file_extension": ".py",
   "mimetype": "text/x-python",
   "name": "python",
   "nbconvert_exporter": "python",
   "pygments_lexer": "ipython3",
   "version": "3.9.4"
  }
 },
 "nbformat": 4,
 "nbformat_minor": 4
}
